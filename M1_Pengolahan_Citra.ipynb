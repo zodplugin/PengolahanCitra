{
  "nbformat": 4,
  "nbformat_minor": 0,
  "metadata": {
    "colab": {
      "provenance": [],
      "include_colab_link": true
    },
    "kernelspec": {
      "name": "python3",
      "display_name": "Python 3"
    },
    "language_info": {
      "name": "python"
    }
  },
  "cells": [
    {
      "cell_type": "markdown",
      "metadata": {
        "id": "view-in-github",
        "colab_type": "text"
      },
      "source": [
        "<a href=\"https://colab.research.google.com/github/zodplugin/pengolahan-citra/blob/main/M1_Pengolahan_Citra.ipynb\" target=\"_parent\"><img src=\"https://colab.research.google.com/assets/colab-badge.svg\" alt=\"Open In Colab\"/></a>"
      ]
    },
    {
      "cell_type": "code",
      "source": [
        "!pip install pillow\n",
        "!pip install pandas\n",
        "!pip install matplotlib\n",
        "import pandas as pd\n",
        "from PIL import Image\n",
        "import matplotlib.pyplot as plt\n",
        "im = Image.open('sample_data/testing.jpg')\n",
        "image = im.resize((100, 100))\n",
        "pixels = list(image.getdata())"
      ],
      "metadata": {
        "colab": {
          "base_uri": "https://localhost:8080/"
        },
        "id": "ni6oOZzFcrZO",
        "outputId": "112e8666-2fea-4998-fe23-c76921cf7d5b"
      },
      "execution_count": null,
      "outputs": [
        {
          "output_type": "stream",
          "name": "stdout",
          "text": [
            "Requirement already satisfied: matplotlib in /usr/local/lib/python3.10/dist-packages (3.7.1)\n",
            "Requirement already satisfied: contourpy>=1.0.1 in /usr/local/lib/python3.10/dist-packages (from matplotlib) (1.1.1)\n",
            "Requirement already satisfied: cycler>=0.10 in /usr/local/lib/python3.10/dist-packages (from matplotlib) (0.12.1)\n",
            "Requirement already satisfied: fonttools>=4.22.0 in /usr/local/lib/python3.10/dist-packages (from matplotlib) (4.43.1)\n",
            "Requirement already satisfied: kiwisolver>=1.0.1 in /usr/local/lib/python3.10/dist-packages (from matplotlib) (1.4.5)\n",
            "Requirement already satisfied: numpy>=1.20 in /usr/local/lib/python3.10/dist-packages (from matplotlib) (1.23.5)\n",
            "Requirement already satisfied: packaging>=20.0 in /usr/local/lib/python3.10/dist-packages (from matplotlib) (23.2)\n",
            "Requirement already satisfied: pillow>=6.2.0 in /usr/local/lib/python3.10/dist-packages (from matplotlib) (9.4.0)\n",
            "Requirement already satisfied: pyparsing>=2.3.1 in /usr/local/lib/python3.10/dist-packages (from matplotlib) (3.1.1)\n",
            "Requirement already satisfied: python-dateutil>=2.7 in /usr/local/lib/python3.10/dist-packages (from matplotlib) (2.8.2)\n",
            "Requirement already satisfied: six>=1.5 in /usr/local/lib/python3.10/dist-packages (from python-dateutil>=2.7->matplotlib) (1.16.0)\n",
            "Requirement already satisfied: pillow in /usr/local/lib/python3.10/dist-packages (9.4.0)\n",
            "Requirement already satisfied: pandas in /usr/local/lib/python3.10/dist-packages (1.5.3)\n",
            "Requirement already satisfied: python-dateutil>=2.8.1 in /usr/local/lib/python3.10/dist-packages (from pandas) (2.8.2)\n",
            "Requirement already satisfied: pytz>=2020.1 in /usr/local/lib/python3.10/dist-packages (from pandas) (2023.3.post1)\n",
            "Requirement already satisfied: numpy>=1.21.0 in /usr/local/lib/python3.10/dist-packages (from pandas) (1.23.5)\n",
            "Requirement already satisfied: six>=1.5 in /usr/local/lib/python3.10/dist-packages (from python-dateutil>=2.8.1->pandas) (1.16.0)\n",
            "Requirement already satisfied: matplotlib in /usr/local/lib/python3.10/dist-packages (3.7.1)\n",
            "Requirement already satisfied: contourpy>=1.0.1 in /usr/local/lib/python3.10/dist-packages (from matplotlib) (1.1.1)\n",
            "Requirement already satisfied: cycler>=0.10 in /usr/local/lib/python3.10/dist-packages (from matplotlib) (0.12.1)\n",
            "Requirement already satisfied: fonttools>=4.22.0 in /usr/local/lib/python3.10/dist-packages (from matplotlib) (4.43.1)\n",
            "Requirement already satisfied: kiwisolver>=1.0.1 in /usr/local/lib/python3.10/dist-packages (from matplotlib) (1.4.5)\n",
            "Requirement already satisfied: numpy>=1.20 in /usr/local/lib/python3.10/dist-packages (from matplotlib) (1.23.5)\n",
            "Requirement already satisfied: packaging>=20.0 in /usr/local/lib/python3.10/dist-packages (from matplotlib) (23.2)\n",
            "Requirement already satisfied: pillow>=6.2.0 in /usr/local/lib/python3.10/dist-packages (from matplotlib) (9.4.0)\n",
            "Requirement already satisfied: pyparsing>=2.3.1 in /usr/local/lib/python3.10/dist-packages (from matplotlib) (3.1.1)\n",
            "Requirement already satisfied: python-dateutil>=2.7 in /usr/local/lib/python3.10/dist-packages (from matplotlib) (2.8.2)\n",
            "Requirement already satisfied: six>=1.5 in /usr/local/lib/python3.10/dist-packages (from python-dateutil>=2.7->matplotlib) (1.16.0)\n"
          ]
        }
      ]
    },
    {
      "cell_type": "code",
      "source": [
        "output = pd.DataFrame(pixels)\n",
        "dfx = output.rename(columns={0: 'Red',1 : \"Green\", 2: \"Blue\"})\n",
        "print(dfx)"
      ],
      "metadata": {
        "id": "FHGo1He3f5FR",
        "colab": {
          "base_uri": "https://localhost:8080/"
        },
        "outputId": "4e5d610c-3004-4329-e815-4341cc66e691"
      },
      "execution_count": null,
      "outputs": [
        {
          "output_type": "stream",
          "name": "stdout",
          "text": [
            "      Red  Green  Blue\n",
            "0     255    255   255\n",
            "1     255    255   255\n",
            "2     255    255   255\n",
            "3     255    255   255\n",
            "4     255    255   255\n",
            "...   ...    ...   ...\n",
            "9995  248    154   187\n",
            "9996  248    153   186\n",
            "9997  247    153   186\n",
            "9998  247    152   185\n",
            "9999  250    159   192\n",
            "\n",
            "[10000 rows x 3 columns]\n",
            "      Red  Green  Blue\n",
            "0     255    255   255\n",
            "1     255    255   255\n",
            "2     255    255   255\n",
            "3     255    255   255\n",
            "4     255    255   255\n",
            "...   ...    ...   ...\n",
            "9995  248    154   187\n",
            "9996  248    153   186\n",
            "9997  247    153   186\n",
            "9998  247    152   185\n",
            "9999  250    159   192\n",
            "\n",
            "[10000 rows x 3 columns]\n"
          ]
        }
      ]
    },
    {
      "cell_type": "code",
      "source": [
        "image"
      ],
      "metadata": {
        "id": "qxxoHRWSjge8",
        "colab": {
          "base_uri": "https://localhost:8080/",
          "height": 217
        },
        "outputId": "dd65c53e-7c72-48ac-b3a2-57689673e40c"
      },
      "execution_count": null,
      "outputs": [
        {
          "output_type": "execute_result",
          "data": {
            "text/plain": [
              "<PIL.Image.Image image mode=RGB size=100x100>"
            ],
            "image/png": "[encoded data removed]"
          },
          "metadata": {},
          "execution_count": 128
        },
        {
          "output_type": "execute_result",
          "data": {
            "text/plain": [
              "<PIL.Image.Image image mode=RGB size=100x100>"
            ],
            "image/png": "[encoded data removed]"
          },
          "metadata": {},
          "execution_count": 137
        }
      ]
    },
    {
      "cell_type": "code",
      "source": [
        "hist = dfx.hist(bins=3)"
      ],
      "metadata": {
        "colab": {
          "base_uri": "https://localhost:8080/",
          "height": 887
        },
        "id": "lduHUQ_5014t",
        "outputId": "1e9311f6-5777-4859-a0fe-3c408879ac16"
      },
      "execution_count": null,
      "outputs": [
        {
          "output_type": "display_data",
          "data": {
            "text/plain": [
              "<Figure size 640x480 with 4 Axes>"
            ],
            "image/png": "[encoded data removed]"
          },
          "metadata": {}
        },
        {
          "output_type": "display_data",
          "data": {
            "text/plain": [
              "<Figure size 640x480 with 4 Axes>"
            ],
            "image/png": "[encoded data removed]"
          },
          "metadata": {}
        }
      ]
    },
    {
      "cell_type": "code",
      "source": [
        "greyscale = Image.open('sample_data/testing.jpg').convert('L')\n",
        "image = greyscale.resize((100, 100))\n",
        "pixels = list(image.getdata())\n",
        "output = pd.DataFrame(pixels)\n",
        "df = output.rename(columns={0: \"Greyscale\"})\n",
        "print(df)"
      ],
      "metadata": {
        "colab": {
          "base_uri": "https://localhost:8080/"
        },
        "id": "2D_YzQQZ2BY9",
        "outputId": "e72a9de2-8796-428e-a759-1f95ebaa8543"
      },
      "execution_count": null,
      "outputs": [
        {
          "output_type": "stream",
          "name": "stdout",
          "text": [
            "      Greyscale\n",
            "0           255\n",
            "1           255\n",
            "2           255\n",
            "3           255\n",
            "4           255\n",
            "...         ...\n",
            "9995        186\n",
            "9996        185\n",
            "9997        185\n",
            "9998        184\n",
            "9999        190\n",
            "\n",
            "[10000 rows x 1 columns]\n",
            "      Greyscale\n",
            "0           255\n",
            "1           255\n",
            "2           255\n",
            "3           255\n",
            "4           255\n",
            "...         ...\n",
            "9995        186\n",
            "9996        185\n",
            "9997        185\n",
            "9998        184\n",
            "9999        190\n",
            "\n",
            "[10000 rows x 1 columns]\n"
          ]
        }
      ]
    },
    {
      "cell_type": "code",
      "source": [
        "hist = df.hist(bins=3)"
      ],
      "metadata": {
        "colab": {
          "base_uri": "https://localhost:8080/",
          "height": 887
        },
        "id": "oGfDQ9tf2UFs",
        "outputId": "f8386fc9-7d34-4e78-fbf6-4fe8147b29b0"
      },
      "execution_count": null,
      "outputs": [
        {
          "output_type": "display_data",
          "data": {
            "text/plain": [
              "<Figure size 640x480 with 1 Axes>"
            ],
            "image/png": "[encoded data removed]"
          },
          "metadata": {}
        },
        {
          "output_type": "display_data",
          "data": {
            "text/plain": [
              "<Figure size 640x480 with 1 Axes>"
            ],
            "image/png": "[encoded data removed]"
          },
          "metadata": {}
        }
      ]
    },
    {
      "cell_type": "code",
      "source": [
        "image"
      ],
      "metadata": {
        "colab": {
          "base_uri": "https://localhost:8080/",
          "height": 217
        },
        "id": "XmeP6Sq32nNB",
        "outputId": "5dbcd036-d53c-4105-8081-3dbbccab871b"
      },
      "execution_count": null,
      "outputs": [
        {
          "output_type": "execute_result",
          "data": {
            "text/plain": [
              "<PIL.Image.Image image mode=L size=100x100>"
            ],
            "image/png": "[encoded data removed]"
          },
          "metadata": {},
          "execution_count": 132
        },
        {
          "output_type": "execute_result",
          "data": {
            "text/plain": [
              "<PIL.Image.Image image mode=L size=100x100>"
            ],
            "image/png": "[encoded data removed]"
          },
          "metadata": {},
          "execution_count": 141
        }
      ]
    },
    {
      "cell_type": "code",
      "source": [
        "# Tampilkan nilai R , G , B\n",
        "\n",
        "def get_value(list, value):\n",
        "    for i in range(0,256):\n",
        "        temp = 0\n",
        "        for j in list:\n",
        "            if j == i:\n",
        "                temp+=1\n",
        "        value.append(temp)"
      ],
      "metadata": {
        "id": "1-cmvg0F7TeP"
      },
      "execution_count": null,
      "outputs": []
    },
    {
      "cell_type": "code",
      "source": [
        "value_r = []\n",
        "value_g = []\n",
        "value_b = []\n",
        "greyscale = []\n",
        "\n",
        "# get value red\n",
        "get_value(dfx[\"Red\"],value_r)\n",
        "# get value blue\n",
        "get_value(dfx[\"Green\"], value_g)\n",
        "# get value red\n",
        "get_value(dfx[\"Blue\"], value_b)\n",
        "# get value greyscale\n",
        "for i in range(len(value_r)):\n",
        "  grey_mean = (value_r[i] + value_g[i] + value_b[i]) / 3\n",
        "  greyscale.append(round(grey_mean))\n",
        "\n",
        "rgb = pd.DataFrame({'Red': value_r,'Green': value_g, 'Blue':value_b, 'Greyscale' : greyscale})\n",
        "\n",
        "\n",
        "print(rgb.to_string())\n",
        "print('Sum: \\t'+str(sum(value_r))+'\\t'+str(sum(value_g))+'\\t'+str(sum(value_b))+'\\t'+str(sum(greyscale)))"
      ],
      "metadata": {
        "id": "Znnfm0dl-TzN",
        "outputId": "aac9a41c-bced-4c77-e19e-7505b8481872",
        "colab": {
          "base_uri": "https://localhost:8080/"
        }
      },
      "execution_count": null,
      "outputs": [
        {
          "output_type": "stream",
          "name": "stdout",
          "text": [
            "      Red  Green  Blue  Greyscale\n",
            "0       0    544   107        217\n",
            "1       0    131    18         50\n",
            "2       0     78    18         32\n",
            "3       0     67    16         28\n",
            "4       0     59    20         26\n",
            "5       0     42    20         21\n",
            "6       0     41    13         18\n",
            "7       0     33    19         17\n",
            "8       0     37    17         18\n",
            "9       0     27    15         14\n",
            "10      0     35    15         17\n",
            "11      0     27    15         14\n",
            "12      0     27    23         17\n",
            "13      0     19    23         14\n",
            "14      0     28    29         19\n",
            "15      0     21    27         16\n",
            "16      0     27    30         19\n",
            "17      0     16    17         11\n",
            "18      0     28    23         17\n",
            "19      0     21    20         14\n",
            "20      0     22    31         18\n",
            "21      0     19    23         14\n",
            "22      0     22    34         19\n",
            "23      0     21    27         16\n",
            "24      0     19    30         16\n",
            "25      0     26    26         17\n",
            "26      0     22    28         17\n",
            "27      0     21    20         14\n",
            "28      0     22    34         19\n",
            "29      0     21    29         17\n",
            "30      0     23    25         16\n",
            "31      0     29    25         18\n",
            "32      0     18    31         16\n",
            "33      0     21    30         17\n",
            "34      0     21    32         18\n",
            "35      0     22    41         21\n",
            "36      0     27    49         25\n",
            "37      0     15    46         20\n",
            "38      0     27    50         26\n",
            "39      0     13    59         24\n",
            "40      0     17    78         32\n",
            "41      0     20    83         34\n",
            "42      0     16    91         36\n",
            "43      0     18    87         35\n",
            "44      0     11    82         31\n",
            "45      0     19    85         35\n",
            "46      1     18   105         41\n",
            "47      0     18   113         44\n",
            "48      0     12    95         36\n",
            "49      3     26    91         40\n",
            "50      5     16    93         38\n",
            "51     10     13    80         34\n",
            "52      9     15    64         29\n",
            "53     12     13    59         28\n",
            "54     22     25    45         31\n",
            "55     43     18    39         33\n",
            "56     47     21    19         29\n",
            "57     61     11    26         33\n",
            "58     73     21    23         39\n",
            "59     68     20    16         35\n",
            "60     58     15    27         33\n",
            "61     64     16    31         37\n",
            "62     68     11    29         36\n",
            "63     55     12    20         29\n",
            "64     65     14    22         34\n",
            "65     49     17    22         29\n",
            "66     68     18    26         37\n",
            "67     52     14    19         28\n",
            "68     45     15    32         31\n",
            "69     35     18    18         24\n",
            "70     45     14    12         24\n",
            "71     34      9    23         22\n",
            "72     22     12    29         21\n",
            "73     33     13    20         22\n",
            "74     23     14    19         19\n",
            "75     18      8    39         22\n",
            "76     23     12    13         16\n",
            "77     21     15    21         19\n",
            "78     15      8    22         15\n",
            "79     15     15    22         17\n",
            "80     11     14    25         17\n",
            "81     14      7    19         13\n",
            "82     10     15    24         16\n",
            "83     16     15    25         19\n",
            "84      3      9    22         11\n",
            "85     11      9    20         13\n",
            "86      8     11    13         11\n",
            "87     12     13    20         15\n",
            "88     10     15     9         11\n",
            "89      6     10    21         12\n",
            "90      8     15    19         14\n",
            "91      9     11    18         13\n",
            "92      9     11    11         10\n",
            "93      8     12    11         10\n",
            "94      5     10     6          7\n",
            "95     12     11    12         12\n",
            "96      6     11     8          8\n",
            "97      6     22    15         14\n",
            "98      8      9    12         10\n",
            "99      8     14    16         13\n",
            "100     6     20    13         13\n",
            "101     7     15    19         14\n",
            "102     5     10    19         11\n",
            "103     8     17    17         14\n",
            "104     5     20    10         12\n",
            "105    10     17     9         12\n",
            "106     3     12    16         10\n",
            "107     8     10    16         11\n",
            "108     6     20    15         14\n",
            "109     9     30    14         18\n",
            "110     5     21    13         13\n",
            "111     5     15    15         12\n",
            "112    11     18    11         13\n",
            "113     7     25    18         17\n",
            "114     9     28    18         18\n",
            "115     7     28    14         16\n",
            "116     8     46    11         22\n",
            "117     4     57     9         23\n",
            "118     7     58    20         28\n",
            "119     4     65    18         29\n",
            "120     7     70    16         31\n",
            "121    10     64    10         28\n",
            "122     6     58    16         27\n",
            "123    11     59    17         29\n",
            "124     9     61    17         29\n",
            "125     5     55    12         24\n",
            "126     5     69    11         28\n",
            "127     5     89    15         36\n",
            "128     9     68    21         33\n",
            "129     8     73    12         31\n",
            "130     5     53    10         23\n",
            "131    11     51    16         26\n",
            "132     7     77    15         33\n",
            "133     4     81    10         32\n",
            "134    10     66     6         27\n",
            "135     8     92     8         36\n",
            "136     5     82     9         32\n",
            "137     8     41    15         21\n",
            "138     7     19    14         13\n",
            "139     6     10    16         11\n",
            "140    13     15     6         11\n",
            "141     7     14     8         10\n",
            "142    12      9    11         11\n",
            "143     9     29    10         16\n",
            "144     7     18    16         14\n",
            "145     3      7    13          8\n",
            "146     4     18    13         12\n",
            "147    11     23    10         15\n",
            "148     7     11    13         10\n",
            "149     4     11     8          8\n",
            "150     5     17    13         12\n",
            "151     4     15    16         12\n",
            "152    13     17    12         14\n",
            "153    10     20    13         14\n",
            "154    16     13    26         18\n",
            "155    11     19    34         21\n",
            "156    11     16    43         23\n",
            "157    14     17    43         25\n",
            "158     3     19    52         25\n",
            "159     9     17    29         18\n",
            "160     6     25    23         18\n",
            "161    13     12    15         13\n",
            "162     6     21    11         13\n",
            "163     5     17    13         12\n",
            "164    12     19     5         12\n",
            "165    10     22    11         14\n",
            "166    11     20    10         14\n",
            "167     2     12     6          7\n",
            "168    11     22     8         14\n",
            "169    15     11    11         12\n",
            "170     8    154    17         60\n",
            "171     9     28    10         16\n",
            "172     9     39     9         19\n",
            "173    11     19    11         14\n",
            "174    10     31    20         20\n",
            "175    10     27    10         16\n",
            "176    13     61    12         29\n",
            "177    11     85    12         36\n",
            "178     8     85    16         36\n",
            "179     8     97    26         44\n",
            "180    10    649    16        225\n",
            "181     7   3259    14       1093\n",
            "182    10    121    14         48\n",
            "183     6     94    12         37\n",
            "184    13     60    14         29\n",
            "185    10     33    21         21\n",
            "186    11     23    12         15\n",
            "187     8     13    14         12\n",
            "188     4      6    17          9\n",
            "189     7      2    19          9\n",
            "190     4      1    14          6\n",
            "191    12      0    16          9\n",
            "192    10      1     8          6\n",
            "193    12      0    15          9\n",
            "194     8      1    14          8\n",
            "195     9      0    22         10\n",
            "196    15      1    18         11\n",
            "197     9      0    17          9\n",
            "198    12      0    18         10\n",
            "199     9      0    32         14\n",
            "200    13      0    16         10\n",
            "201     7      0    17          8\n",
            "202    12      0    20         11\n",
            "203     9      0   156         55\n",
            "204     7      0    26         11\n",
            "205    10      1    45         19\n",
            "206    11      0    18         10\n",
            "207     5      0    29         11\n",
            "208     6      1    34         14\n",
            "209     8      0    48         19\n",
            "210     8      1    52         20\n",
            "211     9      0    80         30\n",
            "212    18      2   212         77\n",
            "213    14      9   600        208\n",
            "214    12     52  3181       1082\n",
            "215     7      0   132         46\n",
            "216    12      0    84         32\n",
            "217    10      0    47         19\n",
            "218     9      0    39         16\n",
            "219    11      0    28         13\n",
            "220    10      0    22         11\n",
            "221    14      0    15         10\n",
            "222    14      0     8          7\n",
            "223    14      0     3          6\n",
            "224    11      1     0          4\n",
            "225    16      0     0          5\n",
            "226    19      1     1          7\n",
            "227    22      1     2          8\n",
            "228    23      0     1          8\n",
            "229    48      0     0         16\n",
            "230    57      0     1         19\n",
            "231    56      0    19         25\n",
            "232    58      2    43         34\n",
            "233    42      0     0         14\n",
            "234    19      0     1          7\n",
            "235    37      0     0         12\n",
            "236    22      0     1          8\n",
            "237    36      1     0         12\n",
            "238    27      0     0          9\n",
            "239    35      0     1         12\n",
            "240    25      0     1          9\n",
            "241    26      0     0          9\n",
            "242    37      1     2         13\n",
            "243    37      2     0         13\n",
            "244    34     27     1         21\n",
            "245    36      0     0         12\n",
            "246    32      1     0         11\n",
            "247    32      0     1         11\n",
            "248    44      1     2         16\n",
            "249    44      0    29         24\n",
            "250    62      0     0         21\n",
            "251    55      1     1         19\n",
            "252    70      1     0         24\n",
            "253    81      0     1         27\n",
            "254   120      6     8         45\n",
            "255  6318    121   118       2186\n",
            "Sum: \t10000\t10000\t10000\t10006\n"
          ]
        }
      ]
    },
    {
      "cell_type": "code",
      "source": [
        "hist = plt.hist(rgb)"
      ],
      "metadata": {
        "colab": {
          "base_uri": "https://localhost:8080/",
          "height": 430
        },
        "id": "7nvmmbclGmWQ",
        "outputId": "50c7045f-f959-4c48-f625-c3b25664c316"
      },
      "execution_count": null,
      "outputs": [
        {
          "output_type": "display_data",
          "data": {
            "text/plain": [
              "<Figure size 640x480 with 1 Axes>"
            ],
            "image/png": "[encoded data removed]"
          },
          "metadata": {}
        }
      ]
    },
    {
      "cell_type": "code",
      "source": [
        "value = []\n",
        "\n",
        "def minmaxscaler(min,max,list):\n",
        "    for i in list:\n",
        "        value.append((i-min)/(max-min))\n",
        "\n",
        "\n",
        "minmaxscaler(min(greyscale), max(greyscale), greyscale)\n",
        "grey_df = pd.DataFrame({'Red': value_r,'Green': value_g, 'Blue':value_b, 'Greyscale Normalization':value})\n",
        "print(grey_df.to_string())\n"
      ],
      "metadata": {
        "id": "D8xrLIhOJLZT",
        "colab": {
          "base_uri": "https://localhost:8080/"
        },
        "outputId": "3ffeb75a-7b56-489a-99ca-97dd9b6fe2fc"
      },
      "execution_count": 158,
      "outputs": [
        {
          "output_type": "stream",
          "name": "stdout",
          "text": [
            "      Red  Green  Blue  Greyscale Normalization\n",
            "0       0    544   107                 0.097617\n",
            "1       0    131    18                 0.021082\n",
            "2       0     78    18                 0.012832\n",
            "3       0     67    16                 0.010999\n",
            "4       0     59    20                 0.010082\n",
            "5       0     42    20                 0.007791\n",
            "6       0     41    13                 0.006416\n",
            "7       0     33    19                 0.005958\n",
            "8       0     37    17                 0.006416\n",
            "9       0     27    15                 0.004583\n",
            "10      0     35    15                 0.005958\n",
            "11      0     27    15                 0.004583\n",
            "12      0     27    23                 0.005958\n",
            "13      0     19    23                 0.004583\n",
            "14      0     28    29                 0.006874\n",
            "15      0     21    27                 0.005500\n",
            "16      0     27    30                 0.006874\n",
            "17      0     16    17                 0.003208\n",
            "18      0     28    23                 0.005958\n",
            "19      0     21    20                 0.004583\n",
            "20      0     22    31                 0.006416\n",
            "21      0     19    23                 0.004583\n",
            "22      0     22    34                 0.006874\n",
            "23      0     21    27                 0.005500\n",
            "24      0     19    30                 0.005500\n",
            "25      0     26    26                 0.005958\n",
            "26      0     22    28                 0.005958\n",
            "27      0     21    20                 0.004583\n",
            "28      0     22    34                 0.006874\n",
            "29      0     21    29                 0.005958\n",
            "30      0     23    25                 0.005500\n",
            "31      0     29    25                 0.006416\n",
            "32      0     18    31                 0.005500\n",
            "33      0     21    30                 0.005958\n",
            "34      0     21    32                 0.006416\n",
            "35      0     22    41                 0.007791\n",
            "36      0     27    49                 0.009624\n",
            "37      0     15    46                 0.007333\n",
            "38      0     27    50                 0.010082\n",
            "39      0     13    59                 0.009166\n",
            "40      0     17    78                 0.012832\n",
            "41      0     20    83                 0.013749\n",
            "42      0     16    91                 0.014665\n",
            "43      0     18    87                 0.014207\n",
            "44      0     11    82                 0.012374\n",
            "45      0     19    85                 0.014207\n",
            "46      1     18   105                 0.016957\n",
            "47      0     18   113                 0.018332\n",
            "48      0     12    95                 0.014665\n",
            "49      3     26    91                 0.016499\n",
            "50      5     16    93                 0.015582\n",
            "51     10     13    80                 0.013749\n",
            "52      9     15    64                 0.011457\n",
            "53     12     13    59                 0.010999\n",
            "54     22     25    45                 0.012374\n",
            "55     43     18    39                 0.013291\n",
            "56     47     21    19                 0.011457\n",
            "57     61     11    26                 0.013291\n",
            "58     73     21    23                 0.016040\n",
            "59     68     20    16                 0.014207\n",
            "60     58     15    27                 0.013291\n",
            "61     64     16    31                 0.015124\n",
            "62     68     11    29                 0.014665\n",
            "63     55     12    20                 0.011457\n",
            "64     65     14    22                 0.013749\n",
            "65     49     17    22                 0.011457\n",
            "66     68     18    26                 0.015124\n",
            "67     52     14    19                 0.010999\n",
            "68     45     15    32                 0.012374\n",
            "69     35     18    18                 0.009166\n",
            "70     45     14    12                 0.009166\n",
            "71     34      9    23                 0.008249\n",
            "72     22     12    29                 0.007791\n",
            "73     33     13    20                 0.008249\n",
            "74     23     14    19                 0.006874\n",
            "75     18      8    39                 0.008249\n",
            "76     23     12    13                 0.005500\n",
            "77     21     15    21                 0.006874\n",
            "78     15      8    22                 0.005041\n",
            "79     15     15    22                 0.005958\n",
            "80     11     14    25                 0.005958\n",
            "81     14      7    19                 0.004125\n",
            "82     10     15    24                 0.005500\n",
            "83     16     15    25                 0.006874\n",
            "84      3      9    22                 0.003208\n",
            "85     11      9    20                 0.004125\n",
            "86      8     11    13                 0.003208\n",
            "87     12     13    20                 0.005041\n",
            "88     10     15     9                 0.003208\n",
            "89      6     10    21                 0.003666\n",
            "90      8     15    19                 0.004583\n",
            "91      9     11    18                 0.004125\n",
            "92      9     11    11                 0.002750\n",
            "93      8     12    11                 0.002750\n",
            "94      5     10     6                 0.001375\n",
            "95     12     11    12                 0.003666\n",
            "96      6     11     8                 0.001833\n",
            "97      6     22    15                 0.004583\n",
            "98      8      9    12                 0.002750\n",
            "99      8     14    16                 0.004125\n",
            "100     6     20    13                 0.004125\n",
            "101     7     15    19                 0.004583\n",
            "102     5     10    19                 0.003208\n",
            "103     8     17    17                 0.004583\n",
            "104     5     20    10                 0.003666\n",
            "105    10     17     9                 0.003666\n",
            "106     3     12    16                 0.002750\n",
            "107     8     10    16                 0.003208\n",
            "108     6     20    15                 0.004583\n",
            "109     9     30    14                 0.006416\n",
            "110     5     21    13                 0.004125\n",
            "111     5     15    15                 0.003666\n",
            "112    11     18    11                 0.004125\n",
            "113     7     25    18                 0.005958\n",
            "114     9     28    18                 0.006416\n",
            "115     7     28    14                 0.005500\n",
            "116     8     46    11                 0.008249\n",
            "117     4     57     9                 0.008708\n",
            "118     7     58    20                 0.010999\n",
            "119     4     65    18                 0.011457\n",
            "120     7     70    16                 0.012374\n",
            "121    10     64    10                 0.010999\n",
            "122     6     58    16                 0.010541\n",
            "123    11     59    17                 0.011457\n",
            "124     9     61    17                 0.011457\n",
            "125     5     55    12                 0.009166\n",
            "126     5     69    11                 0.010999\n",
            "127     5     89    15                 0.014665\n",
            "128     9     68    21                 0.013291\n",
            "129     8     73    12                 0.012374\n",
            "130     5     53    10                 0.008708\n",
            "131    11     51    16                 0.010082\n",
            "132     7     77    15                 0.013291\n",
            "133     4     81    10                 0.012832\n",
            "134    10     66     6                 0.010541\n",
            "135     8     92     8                 0.014665\n",
            "136     5     82     9                 0.012832\n",
            "137     8     41    15                 0.007791\n",
            "138     7     19    14                 0.004125\n",
            "139     6     10    16                 0.003208\n",
            "140    13     15     6                 0.003208\n",
            "141     7     14     8                 0.002750\n",
            "142    12      9    11                 0.003208\n",
            "143     9     29    10                 0.005500\n",
            "144     7     18    16                 0.004583\n",
            "145     3      7    13                 0.001833\n",
            "146     4     18    13                 0.003666\n",
            "147    11     23    10                 0.005041\n",
            "148     7     11    13                 0.002750\n",
            "149     4     11     8                 0.001833\n",
            "150     5     17    13                 0.003666\n",
            "151     4     15    16                 0.003666\n",
            "152    13     17    12                 0.004583\n",
            "153    10     20    13                 0.004583\n",
            "154    16     13    26                 0.006416\n",
            "155    11     19    34                 0.007791\n",
            "156    11     16    43                 0.008708\n",
            "157    14     17    43                 0.009624\n",
            "158     3     19    52                 0.009624\n",
            "159     9     17    29                 0.006416\n",
            "160     6     25    23                 0.006416\n",
            "161    13     12    15                 0.004125\n",
            "162     6     21    11                 0.004125\n",
            "163     5     17    13                 0.003666\n",
            "164    12     19     5                 0.003666\n",
            "165    10     22    11                 0.004583\n",
            "166    11     20    10                 0.004583\n",
            "167     2     12     6                 0.001375\n",
            "168    11     22     8                 0.004583\n",
            "169    15     11    11                 0.003666\n",
            "170     8    154    17                 0.025665\n",
            "171     9     28    10                 0.005500\n",
            "172     9     39     9                 0.006874\n",
            "173    11     19    11                 0.004583\n",
            "174    10     31    20                 0.007333\n",
            "175    10     27    10                 0.005500\n",
            "176    13     61    12                 0.011457\n",
            "177    11     85    12                 0.014665\n",
            "178     8     85    16                 0.014665\n",
            "179     8     97    26                 0.018332\n",
            "180    10    649    16                 0.101283\n",
            "181     7   3259    14                 0.499083\n",
            "182    10    121    14                 0.020165\n",
            "183     6     94    12                 0.015124\n",
            "184    13     60    14                 0.011457\n",
            "185    10     33    21                 0.007791\n",
            "186    11     23    12                 0.005041\n",
            "187     8     13    14                 0.003666\n",
            "188     4      6    17                 0.002291\n",
            "189     7      2    19                 0.002291\n",
            "190     4      1    14                 0.000917\n",
            "191    12      0    16                 0.002291\n",
            "192    10      1     8                 0.000917\n",
            "193    12      0    15                 0.002291\n",
            "194     8      1    14                 0.001833\n",
            "195     9      0    22                 0.002750\n",
            "196    15      1    18                 0.003208\n",
            "197     9      0    17                 0.002291\n",
            "198    12      0    18                 0.002750\n",
            "199     9      0    32                 0.004583\n",
            "200    13      0    16                 0.002750\n",
            "201     7      0    17                 0.001833\n",
            "202    12      0    20                 0.003208\n",
            "203     9      0   156                 0.023373\n",
            "204     7      0    26                 0.003208\n",
            "205    10      1    45                 0.006874\n",
            "206    11      0    18                 0.002750\n",
            "207     5      0    29                 0.003208\n",
            "208     6      1    34                 0.004583\n",
            "209     8      0    48                 0.006874\n",
            "210     8      1    52                 0.007333\n",
            "211     9      0    80                 0.011916\n",
            "212    18      2   212                 0.033456\n",
            "213    14      9   600                 0.093492\n",
            "214    12     52  3181                 0.494042\n",
            "215     7      0   132                 0.019248\n",
            "216    12      0    84                 0.012832\n",
            "217    10      0    47                 0.006874\n",
            "218     9      0    39                 0.005500\n",
            "219    11      0    28                 0.004125\n",
            "220    10      0    22                 0.003208\n",
            "221    14      0    15                 0.002750\n",
            "222    14      0     8                 0.001375\n",
            "223    14      0     3                 0.000917\n",
            "224    11      1     0                 0.000000\n",
            "225    16      0     0                 0.000458\n",
            "226    19      1     1                 0.001375\n",
            "227    22      1     2                 0.001833\n",
            "228    23      0     1                 0.001833\n",
            "229    48      0     0                 0.005500\n",
            "230    57      0     1                 0.006874\n",
            "231    56      0    19                 0.009624\n",
            "232    58      2    43                 0.013749\n",
            "233    42      0     0                 0.004583\n",
            "234    19      0     1                 0.001375\n",
            "235    37      0     0                 0.003666\n",
            "236    22      0     1                 0.001833\n",
            "237    36      1     0                 0.003666\n",
            "238    27      0     0                 0.002291\n",
            "239    35      0     1                 0.003666\n",
            "240    25      0     1                 0.002291\n",
            "241    26      0     0                 0.002291\n",
            "242    37      1     2                 0.004125\n",
            "243    37      2     0                 0.004125\n",
            "244    34     27     1                 0.007791\n",
            "245    36      0     0                 0.003666\n",
            "246    32      1     0                 0.003208\n",
            "247    32      0     1                 0.003208\n",
            "248    44      1     2                 0.005500\n",
            "249    44      0    29                 0.009166\n",
            "250    62      0     0                 0.007791\n",
            "251    55      1     1                 0.006874\n",
            "252    70      1     0                 0.009166\n",
            "253    81      0     1                 0.010541\n",
            "254   120      6     8                 0.018790\n",
            "255  6318    121   118                 1.000000\n"
          ]
        }
      ]
    }
  ]
}