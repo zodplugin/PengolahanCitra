{
  "cells": [
    {
      "cell_type": "markdown",
      "metadata": {
        "colab_type": "text",
        "id": "view-in-github"
      },
      "source": [
        "<a href=\"https://colab.research.google.com/github/zodplugin/PengolahanCitra/blob/main/M1_Pengolahan_Citra.ipynb\" target=\"_parent\"><img src=\"https://colab.research.google.com/assets/colab-badge.svg\" alt=\"Open In Colab\"/></a>"
      ]
    },
    {
      "cell_type": "markdown",
      "metadata": {},
      "source": [
        "## 1. Convert Image To RGB"
      ]
    },
    {
      "cell_type": "code",
      "execution_count": 1,
      "metadata": {
        "colab": {
          "base_uri": "https://localhost:8080/"
        },
        "id": "ni6oOZzFcrZO",
        "outputId": "cbf2dc18-0318-4d68-b1ff-0cba74e6fa21"
      },
      "outputs": [],
      "source": [
        "import matplotlib.pyplot as plt\n",
        "import numpy\n",
        "import colorsys\n",
        "import cv2\n",
        "import pandas as pd\n",
        "from PIL import Image\n",
        "im = Image.open('muhehe.png').convert(\"RGB\")\n",
        "image = im.resize((250, 300))\n",
        "pixels = list(image.getdata())"
      ]
    },
    {
      "cell_type": "code",
      "execution_count": 2,
      "metadata": {
        "colab": {
          "base_uri": "https://localhost:8080/"
        },
        "id": "FHGo1He3f5FR",
        "outputId": "d2e0b6e6-a50c-4743-ba61-d7209f6bd774"
      },
      "outputs": [
        {
          "data": {
            "text/html": [
              "<div>\n",
              "<style scoped>\n",
              "    .dataframe tbody tr th:only-of-type {\n",
              "        vertical-align: middle;\n",
              "    }\n",
              "\n",
              "    .dataframe tbody tr th {\n",
              "        vertical-align: top;\n",
              "    }\n",
              "\n",
              "    .dataframe thead th {\n",
              "        text-align: right;\n",
              "    }\n",
              "</style>\n",
              "<table border=\"1\" class=\"dataframe\">\n",
              "  <thead>\n",
              "    <tr style=\"text-align: right;\">\n",
              "      <th></th>\n",
              "      <th>Red</th>\n",
              "      <th>Green</th>\n",
              "      <th>Blue</th>\n",
              "    </tr>\n",
              "  </thead>\n",
              "  <tbody>\n",
              "    <tr>\n",
              "      <th>0</th>\n",
              "      <td>232</td>\n",
              "      <td>85</td>\n",
              "      <td>94</td>\n",
              "    </tr>\n",
              "    <tr>\n",
              "      <th>1</th>\n",
              "      <td>231</td>\n",
              "      <td>84</td>\n",
              "      <td>93</td>\n",
              "    </tr>\n",
              "    <tr>\n",
              "      <th>2</th>\n",
              "      <td>232</td>\n",
              "      <td>85</td>\n",
              "      <td>94</td>\n",
              "    </tr>\n",
              "    <tr>\n",
              "      <th>3</th>\n",
              "      <td>232</td>\n",
              "      <td>85</td>\n",
              "      <td>94</td>\n",
              "    </tr>\n",
              "    <tr>\n",
              "      <th>4</th>\n",
              "      <td>233</td>\n",
              "      <td>86</td>\n",
              "      <td>95</td>\n",
              "    </tr>\n",
              "    <tr>\n",
              "      <th>...</th>\n",
              "      <td>...</td>\n",
              "      <td>...</td>\n",
              "      <td>...</td>\n",
              "    </tr>\n",
              "    <tr>\n",
              "      <th>74995</th>\n",
              "      <td>233</td>\n",
              "      <td>86</td>\n",
              "      <td>95</td>\n",
              "    </tr>\n",
              "    <tr>\n",
              "      <th>74996</th>\n",
              "      <td>232</td>\n",
              "      <td>85</td>\n",
              "      <td>94</td>\n",
              "    </tr>\n",
              "    <tr>\n",
              "      <th>74997</th>\n",
              "      <td>232</td>\n",
              "      <td>85</td>\n",
              "      <td>94</td>\n",
              "    </tr>\n",
              "    <tr>\n",
              "      <th>74998</th>\n",
              "      <td>232</td>\n",
              "      <td>85</td>\n",
              "      <td>94</td>\n",
              "    </tr>\n",
              "    <tr>\n",
              "      <th>74999</th>\n",
              "      <td>231</td>\n",
              "      <td>84</td>\n",
              "      <td>93</td>\n",
              "    </tr>\n",
              "  </tbody>\n",
              "</table>\n",
              "<p>75000 rows × 3 columns</p>\n",
              "</div>"
            ],
            "text/plain": [
              "       Red  Green  Blue\n",
              "0      232     85    94\n",
              "1      231     84    93\n",
              "2      232     85    94\n",
              "3      232     85    94\n",
              "4      233     86    95\n",
              "...    ...    ...   ...\n",
              "74995  233     86    95\n",
              "74996  232     85    94\n",
              "74997  232     85    94\n",
              "74998  232     85    94\n",
              "74999  231     84    93\n",
              "\n",
              "[75000 rows x 3 columns]"
            ]
          },
          "execution_count": 2,
          "metadata": {},
          "output_type": "execute_result"
        }
      ],
      "source": [
        "output = pd.DataFrame(pixels)\n",
        "df = output.rename(columns={0: 'Red',1 : \"Green\", 2: \"Blue\"})\n",
        "df"
      ]
    },
    {
      "cell_type": "code",
      "execution_count": 3,
      "metadata": {
        "colab": {
          "base_uri": "https://localhost:8080/",
          "height": 417
        },
        "id": "qxxoHRWSjge8",
        "outputId": "fd0b7ce4-33fe-4e67-ed99-7346275107b4"
      },
      "outputs": [
        {
          "data": {
            "image/png": "[encoded data removed]",
            "text/plain": [
              "<PIL.Image.Image image mode=RGB size=250x300 at 0x24A143FD820>"
            ]
          },
          "execution_count": 3,
          "metadata": {},
          "output_type": "execute_result"
        }
      ],
      "source": [
        "image"
      ]
    },
    {
      "cell_type": "markdown",
      "metadata": {},
      "source": [
        "## 2. Show Histogram Value From Image"
      ]
    },
    {
      "cell_type": "code",
      "execution_count": 4,
      "metadata": {},
      "outputs": [
        {
          "data": {
            "image/png": "[encoded data removed]",
            "text/plain": [
              "<Figure size 432x288 with 1 Axes>"
            ]
          },
          "metadata": {
            "needs_background": "light"
          },
          "output_type": "display_data"
        }
      ],
      "source": [
        "# Set title\n",
        "plt.title(\"Red value\")\n",
        "plt.style.use('seaborn-whitegrid')\n",
        "plt.hist(df[\"Red\"], color = \"orangered\", bins=3)\n",
        "plt.show()"
      ]
    },
    {
      "cell_type": "code",
      "execution_count": 5,
      "metadata": {},
      "outputs": [
        {
          "data": {
            "image/png": "[encoded data removed]",
            "text/plain": [
              "<Figure size 432x288 with 1 Axes>"
            ]
          },
          "metadata": {},
          "output_type": "display_data"
        }
      ],
      "source": [
        "# Set title\n",
        "plt.title(\"Green value\")\n",
        "plt.style.use('seaborn-whitegrid')\n",
        "plt.hist(df[\"Green\"], color=\"springgreen\", bins=3)\n",
        "plt.show()"
      ]
    },
    {
      "cell_type": "code",
      "execution_count": 6,
      "metadata": {},
      "outputs": [
        {
          "data": {
            "image/png": "[encoded data removed]",
            "text/plain": [
              "<Figure size 432x288 with 1 Axes>"
            ]
          },
          "metadata": {},
          "output_type": "display_data"
        }
      ],
      "source": [
        "# Set title\n",
        "plt.title(\"Blue value\")\n",
        "plt.style.use('seaborn-whitegrid')\n",
        "plt.hist(df[\"Blue\"], color=\"deepskyblue\", bins=3)\n",
        "plt.show()"
      ]
    },
    {
      "cell_type": "code",
      "execution_count": 7,
      "metadata": {},
      "outputs": [
        {
          "data": {
            "image/png": "[encoded data removed]",
            "text/plain": [
              "<Figure size 432x288 with 1 Axes>"
            ]
          },
          "metadata": {},
          "output_type": "display_data"
        }
      ],
      "source": [
        "# Set title\n",
        "plt.title(\"Histogram RGB Image\")\n",
        "plt.style.use('seaborn-whitegrid')\n",
        "plt.hist(df, color=[\"orangered\", \"springgreen\", \"deepskyblue\"], bins=3, label=[\"Red\",\"Green\",\"Blue\"])\n",
        "\n",
        "plt.legend(bbox_to_anchor=(0.80, 1.25), ncol=3)\n",
        "\n",
        "plt.show()\n"
      ]
    },
    {
      "cell_type": "code",
      "execution_count": 8,
      "metadata": {},
      "outputs": [],
      "source": [
        "# Tampilkan nilai R , G , B\n",
        "def get_value(list, value):\n",
        "    for i in range(0, 256):\n",
        "        temp = 0\n",
        "        for j in list:\n",
        "            if j == i:\n",
        "                temp += 1\n",
        "        value.append(temp)"
      ]
    },
    {
      "cell_type": "code",
      "execution_count": 9,
      "metadata": {},
      "outputs": [],
      "source": [
        "def rgb_to_grayscale(width, height,pixel_map, image):\n",
        "    for i in range(width):\n",
        "        for j in range(height):\n",
        "\n",
        "            # getting the RGB pixel value.\n",
        "            r, g, b = image.getpixel((i, j))\n",
        "\n",
        "            # Apply formula of grayscale:\n",
        "            grayscale = (0.299*r + 0.587*g + 0.114*b)\n",
        "\n",
        "            # setting the pixel value.\n",
        "            pixel_map[i, j] = (int(grayscale), int(grayscale), int(grayscale))\n",
        "    \n",
        "    image.save(\"muhehe_grayscale.png\", format=\"png\")"
      ]
    },
    {
      "cell_type": "code",
      "execution_count": 10,
      "metadata": {},
      "outputs": [
        {
          "data": {
            "text/html": [
              "<div>\n",
              "<style scoped>\n",
              "    .dataframe tbody tr th:only-of-type {\n",
              "        vertical-align: middle;\n",
              "    }\n",
              "\n",
              "    .dataframe tbody tr th {\n",
              "        vertical-align: top;\n",
              "    }\n",
              "\n",
              "    .dataframe thead th {\n",
              "        text-align: right;\n",
              "    }\n",
              "</style>\n",
              "<table border=\"1\" class=\"dataframe\">\n",
              "  <thead>\n",
              "    <tr style=\"text-align: right;\">\n",
              "      <th></th>\n",
              "      <th>Red</th>\n",
              "      <th>Green</th>\n",
              "      <th>Blue</th>\n",
              "    </tr>\n",
              "  </thead>\n",
              "  <tbody>\n",
              "    <tr>\n",
              "      <th>0</th>\n",
              "      <td>129</td>\n",
              "      <td>129</td>\n",
              "      <td>129</td>\n",
              "    </tr>\n",
              "    <tr>\n",
              "      <th>1</th>\n",
              "      <td>128</td>\n",
              "      <td>128</td>\n",
              "      <td>128</td>\n",
              "    </tr>\n",
              "    <tr>\n",
              "      <th>2</th>\n",
              "      <td>129</td>\n",
              "      <td>129</td>\n",
              "      <td>129</td>\n",
              "    </tr>\n",
              "    <tr>\n",
              "      <th>3</th>\n",
              "      <td>129</td>\n",
              "      <td>129</td>\n",
              "      <td>129</td>\n",
              "    </tr>\n",
              "    <tr>\n",
              "      <th>4</th>\n",
              "      <td>130</td>\n",
              "      <td>130</td>\n",
              "      <td>130</td>\n",
              "    </tr>\n",
              "    <tr>\n",
              "      <th>...</th>\n",
              "      <td>...</td>\n",
              "      <td>...</td>\n",
              "      <td>...</td>\n",
              "    </tr>\n",
              "    <tr>\n",
              "      <th>74995</th>\n",
              "      <td>130</td>\n",
              "      <td>130</td>\n",
              "      <td>130</td>\n",
              "    </tr>\n",
              "    <tr>\n",
              "      <th>74996</th>\n",
              "      <td>129</td>\n",
              "      <td>129</td>\n",
              "      <td>129</td>\n",
              "    </tr>\n",
              "    <tr>\n",
              "      <th>74997</th>\n",
              "      <td>129</td>\n",
              "      <td>129</td>\n",
              "      <td>129</td>\n",
              "    </tr>\n",
              "    <tr>\n",
              "      <th>74998</th>\n",
              "      <td>129</td>\n",
              "      <td>129</td>\n",
              "      <td>129</td>\n",
              "    </tr>\n",
              "    <tr>\n",
              "      <th>74999</th>\n",
              "      <td>128</td>\n",
              "      <td>128</td>\n",
              "      <td>128</td>\n",
              "    </tr>\n",
              "  </tbody>\n",
              "</table>\n",
              "<p>75000 rows × 3 columns</p>\n",
              "</div>"
            ],
            "text/plain": [
              "       Red  Green  Blue\n",
              "0      129    129   129\n",
              "1      128    128   128\n",
              "2      129    129   129\n",
              "3      129    129   129\n",
              "4      130    130   130\n",
              "...    ...    ...   ...\n",
              "74995  130    130   130\n",
              "74996  129    129   129\n",
              "74997  129    129   129\n",
              "74998  129    129   129\n",
              "74999  128    128   128\n",
              "\n",
              "[75000 rows x 3 columns]"
            ]
          },
          "execution_count": 10,
          "metadata": {},
          "output_type": "execute_result"
        }
      ],
      "source": [
        "im_grey = Image.open('muhehe.png').convert(\"RGB\")\n",
        "\n",
        "image_grey = im_grey.resize((250, 300))\n",
        "\n",
        "# Extracting pixel map:\n",
        "pixel_map = image_grey.load()\n",
        "\n",
        "# Extracting the width and height\n",
        "# of the image:\n",
        "width, height = image_grey.size\n",
        "\n",
        "rgb_to_grayscale(width, height, pixel_map, image_grey)\n",
        "\n",
        "pixels_grey  = list(image_grey.getdata())\n",
        "\n",
        "output_grey = pd.DataFrame(pixels_grey)\n",
        "df_grey = output_grey.rename(columns={0: 'Red', 1: \"Green\", 2: \"Blue\"})\n",
        "df_grey\n"
      ]
    },
    {
      "cell_type": "code",
      "execution_count": 11,
      "metadata": {},
      "outputs": [
        {
          "data": {
            "image/png": "[encoded data removed]",
            "text/plain": [
              "<PIL.Image.Image image mode=RGB size=250x300 at 0x24A161F08E0>"
            ]
          },
          "execution_count": 11,
          "metadata": {},
          "output_type": "execute_result"
        }
      ],
      "source": [
        "image_grey"
      ]
    },
    {
      "cell_type": "code",
      "execution_count": 12,
      "metadata": {},
      "outputs": [
        {
          "data": {
            "image/png": "[encoded data removed]",
            "text/plain": [
              "<Figure size 432x288 with 1 Axes>"
            ]
          },
          "metadata": {},
          "output_type": "display_data"
        }
      ],
      "source": [
        "# Set title\n",
        "plt.title(\"Histogram Grey Image\")\n",
        "plt.style.use('seaborn-whitegrid')\n",
        "plt.hist(df_grey, color=[\"orangered\", \"springgreen\", \"deepskyblue\"],\n",
        "         bins=3, label=[\"Red\", \"Green\", \"Blue\"])\n",
        "\n",
        "plt.legend(bbox_to_anchor=(0.80, 1.25), ncol=3)\n",
        "\n",
        "plt.show()\n"
      ]
    },
    {
      "cell_type": "code",
      "execution_count": 13,
      "metadata": {},
      "outputs": [],
      "source": [
        "img = cv2.imread('muhehe.png')\n",
        "\n",
        "img_1 = cv2.resize(img, (250, 300))\n",
        "\n",
        "img_normalized = cv2.normalize(img_1, None, 0, 1.0,\n",
        "                               cv2.NORM_MINMAX, dtype=cv2.CV_32F)\n",
        "\n",
        "# Window name in which image is displayed\n",
        "window_name = 'image'\n",
        "\n",
        "# Using cv2.imshow() method\n",
        "# Displaying the image\n",
        "cv2.imshow(window_name, img_normalized)\n",
        "\n",
        "# waits for user to press any key\n",
        "# (this is necessary to avoid Python kernel form crashing)\n",
        "cv2.waitKey(0)\n",
        "\n",
        "# closing all open windows\n",
        "cv2.destroyAllWindows()"
      ]
    },
    {
      "cell_type": "code",
      "execution_count": 14,
      "metadata": {},
      "outputs": [
        {
          "data": {
            "text/html": [
              "<div>\n",
              "<style scoped>\n",
              "    .dataframe tbody tr th:only-of-type {\n",
              "        vertical-align: middle;\n",
              "    }\n",
              "\n",
              "    .dataframe tbody tr th {\n",
              "        vertical-align: top;\n",
              "    }\n",
              "\n",
              "    .dataframe thead th {\n",
              "        text-align: right;\n",
              "    }\n",
              "</style>\n",
              "<table border=\"1\" class=\"dataframe\">\n",
              "  <thead>\n",
              "    <tr style=\"text-align: right;\">\n",
              "      <th></th>\n",
              "      <th>Red</th>\n",
              "      <th>Green</th>\n",
              "      <th>Blue</th>\n",
              "    </tr>\n",
              "  </thead>\n",
              "  <tbody>\n",
              "    <tr>\n",
              "      <th>0</th>\n",
              "      <td>0.309735</td>\n",
              "      <td>0.269911</td>\n",
              "      <td>0.920354</td>\n",
              "    </tr>\n",
              "    <tr>\n",
              "      <th>1</th>\n",
              "      <td>0.336283</td>\n",
              "      <td>0.296460</td>\n",
              "      <td>0.946903</td>\n",
              "    </tr>\n",
              "    <tr>\n",
              "      <th>2</th>\n",
              "      <td>0.327434</td>\n",
              "      <td>0.287611</td>\n",
              "      <td>0.938053</td>\n",
              "    </tr>\n",
              "    <tr>\n",
              "      <th>3</th>\n",
              "      <td>0.327434</td>\n",
              "      <td>0.287611</td>\n",
              "      <td>0.938053</td>\n",
              "    </tr>\n",
              "    <tr>\n",
              "      <th>4</th>\n",
              "      <td>0.327434</td>\n",
              "      <td>0.287611</td>\n",
              "      <td>0.938053</td>\n",
              "    </tr>\n",
              "    <tr>\n",
              "      <th>...</th>\n",
              "      <td>...</td>\n",
              "      <td>...</td>\n",
              "      <td>...</td>\n",
              "    </tr>\n",
              "    <tr>\n",
              "      <th>74995</th>\n",
              "      <td>0.336283</td>\n",
              "      <td>0.296460</td>\n",
              "      <td>0.946903</td>\n",
              "    </tr>\n",
              "    <tr>\n",
              "      <th>74996</th>\n",
              "      <td>0.327434</td>\n",
              "      <td>0.287611</td>\n",
              "      <td>0.938053</td>\n",
              "    </tr>\n",
              "    <tr>\n",
              "      <th>74997</th>\n",
              "      <td>0.314159</td>\n",
              "      <td>0.274336</td>\n",
              "      <td>0.924779</td>\n",
              "    </tr>\n",
              "    <tr>\n",
              "      <th>74998</th>\n",
              "      <td>0.309735</td>\n",
              "      <td>0.269911</td>\n",
              "      <td>0.920354</td>\n",
              "    </tr>\n",
              "    <tr>\n",
              "      <th>74999</th>\n",
              "      <td>0.314159</td>\n",
              "      <td>0.274336</td>\n",
              "      <td>0.924779</td>\n",
              "    </tr>\n",
              "  </tbody>\n",
              "</table>\n",
              "<p>75000 rows × 3 columns</p>\n",
              "</div>"
            ],
            "text/plain": [
              "            Red     Green      Blue\n",
              "0      0.309735  0.269911  0.920354\n",
              "1      0.336283  0.296460  0.946903\n",
              "2      0.327434  0.287611  0.938053\n",
              "3      0.327434  0.287611  0.938053\n",
              "4      0.327434  0.287611  0.938053\n",
              "...         ...       ...       ...\n",
              "74995  0.336283  0.296460  0.946903\n",
              "74996  0.327434  0.287611  0.938053\n",
              "74997  0.314159  0.274336  0.924779\n",
              "74998  0.309735  0.269911  0.920354\n",
              "74999  0.314159  0.274336  0.924779\n",
              "\n",
              "[75000 rows x 3 columns]"
            ]
          },
          "execution_count": 14,
          "metadata": {},
          "output_type": "execute_result"
        }
      ],
      "source": [
        "list_1 = []\n",
        "\n",
        "for i in img_normalized:\n",
        "    for j in i:\n",
        "        list_1.append(j)\n",
        "\n",
        "\n",
        "output_norm = pd.DataFrame(list_1)\n",
        "df_norm = output_norm.rename(columns={0: 'Red', 1: \"Green\", 2: \"Blue\"})\n",
        "df_norm\n"
      ]
    },
    {
      "cell_type": "code",
      "execution_count": 15,
      "metadata": {},
      "outputs": [
        {
          "data": {
            "image/png": "[encoded data removed]",
            "text/plain": [
              "<Figure size 432x288 with 1 Axes>"
            ]
          },
          "metadata": {},
          "output_type": "display_data"
        }
      ],
      "source": [
        "# Set title\n",
        "plt.title(\"Histogram RGB Image normalize\")\n",
        "plt.style.use('seaborn-whitegrid')\n",
        "plt.hist(df_norm, color=[\"orangered\", \"springgreen\", \"deepskyblue\"],\n",
        "         bins=3, label=[\"Red\", \"Green\", \"Blue\"])\n",
        "\n",
        "plt.legend(bbox_to_anchor=(0.80, 1.25), ncol=3)\n",
        "\n",
        "plt.show()"
      ]
    },
    {
      "cell_type": "code",
      "execution_count": 16,
      "metadata": {},
      "outputs": [
        {
          "data": {
            "text/html": [
              "<div>\n",
              "<style scoped>\n",
              "    .dataframe tbody tr th:only-of-type {\n",
              "        vertical-align: middle;\n",
              "    }\n",
              "\n",
              "    .dataframe tbody tr th {\n",
              "        vertical-align: top;\n",
              "    }\n",
              "\n",
              "    .dataframe thead th {\n",
              "        text-align: right;\n",
              "    }\n",
              "</style>\n",
              "<table border=\"1\" class=\"dataframe\">\n",
              "  <thead>\n",
              "    <tr style=\"text-align: right;\">\n",
              "      <th></th>\n",
              "      <th>Red</th>\n",
              "      <th>Green</th>\n",
              "      <th>Blue</th>\n",
              "      <th>G. Red</th>\n",
              "      <th>G. Green</th>\n",
              "      <th>G. Blue</th>\n",
              "      <th>Red Norm</th>\n",
              "      <th>Green Norm</th>\n",
              "      <th>Blue Norm</th>\n",
              "    </tr>\n",
              "  </thead>\n",
              "  <tbody>\n",
              "    <tr>\n",
              "      <th>0</th>\n",
              "      <td>0</td>\n",
              "      <td>0</td>\n",
              "      <td>0</td>\n",
              "      <td>0</td>\n",
              "      <td>0</td>\n",
              "      <td>0</td>\n",
              "      <td>0</td>\n",
              "      <td>0</td>\n",
              "      <td>0</td>\n",
              "    </tr>\n",
              "    <tr>\n",
              "      <th>1</th>\n",
              "      <td>0</td>\n",
              "      <td>0</td>\n",
              "      <td>0</td>\n",
              "      <td>0</td>\n",
              "      <td>0</td>\n",
              "      <td>0</td>\n",
              "      <td>0</td>\n",
              "      <td>5</td>\n",
              "      <td>5</td>\n",
              "    </tr>\n",
              "    <tr>\n",
              "      <th>2</th>\n",
              "      <td>0</td>\n",
              "      <td>0</td>\n",
              "      <td>0</td>\n",
              "      <td>0</td>\n",
              "      <td>0</td>\n",
              "      <td>0</td>\n",
              "      <td>0</td>\n",
              "      <td>0</td>\n",
              "      <td>0</td>\n",
              "    </tr>\n",
              "    <tr>\n",
              "      <th>3</th>\n",
              "      <td>0</td>\n",
              "      <td>0</td>\n",
              "      <td>0</td>\n",
              "      <td>0</td>\n",
              "      <td>0</td>\n",
              "      <td>0</td>\n",
              "      <td>0</td>\n",
              "      <td>0</td>\n",
              "      <td>0</td>\n",
              "    </tr>\n",
              "    <tr>\n",
              "      <th>4</th>\n",
              "      <td>0</td>\n",
              "      <td>0</td>\n",
              "      <td>0</td>\n",
              "      <td>0</td>\n",
              "      <td>0</td>\n",
              "      <td>0</td>\n",
              "      <td>0</td>\n",
              "      <td>0</td>\n",
              "      <td>0</td>\n",
              "    </tr>\n",
              "    <tr>\n",
              "      <th>...</th>\n",
              "      <td>...</td>\n",
              "      <td>...</td>\n",
              "      <td>...</td>\n",
              "      <td>...</td>\n",
              "      <td>...</td>\n",
              "      <td>...</td>\n",
              "      <td>...</td>\n",
              "      <td>...</td>\n",
              "      <td>...</td>\n",
              "    </tr>\n",
              "    <tr>\n",
              "      <th>251</th>\n",
              "      <td>0</td>\n",
              "      <td>0</td>\n",
              "      <td>0</td>\n",
              "      <td>0</td>\n",
              "      <td>0</td>\n",
              "      <td>0</td>\n",
              "      <td>0</td>\n",
              "      <td>0</td>\n",
              "      <td>0</td>\n",
              "    </tr>\n",
              "    <tr>\n",
              "      <th>252</th>\n",
              "      <td>1</td>\n",
              "      <td>1</td>\n",
              "      <td>0</td>\n",
              "      <td>0</td>\n",
              "      <td>0</td>\n",
              "      <td>0</td>\n",
              "      <td>0</td>\n",
              "      <td>0</td>\n",
              "      <td>0</td>\n",
              "    </tr>\n",
              "    <tr>\n",
              "      <th>253</th>\n",
              "      <td>0</td>\n",
              "      <td>1</td>\n",
              "      <td>0</td>\n",
              "      <td>0</td>\n",
              "      <td>0</td>\n",
              "      <td>0</td>\n",
              "      <td>0</td>\n",
              "      <td>0</td>\n",
              "      <td>0</td>\n",
              "    </tr>\n",
              "    <tr>\n",
              "      <th>254</th>\n",
              "      <td>0</td>\n",
              "      <td>0</td>\n",
              "      <td>0</td>\n",
              "      <td>0</td>\n",
              "      <td>0</td>\n",
              "      <td>0</td>\n",
              "      <td>0</td>\n",
              "      <td>0</td>\n",
              "      <td>0</td>\n",
              "    </tr>\n",
              "    <tr>\n",
              "      <th>255</th>\n",
              "      <td>0</td>\n",
              "      <td>0</td>\n",
              "      <td>0</td>\n",
              "      <td>0</td>\n",
              "      <td>0</td>\n",
              "      <td>0</td>\n",
              "      <td>0</td>\n",
              "      <td>0</td>\n",
              "      <td>0</td>\n",
              "    </tr>\n",
              "  </tbody>\n",
              "</table>\n",
              "<p>256 rows × 9 columns</p>\n",
              "</div>"
            ],
            "text/plain": [
              "     Red  Green  Blue  G. Red  G. Green  G. Blue  Red Norm  Green Norm  \\\n",
              "0      0      0     0       0         0        0         0           0   \n",
              "1      0      0     0       0         0        0         0           5   \n",
              "2      0      0     0       0         0        0         0           0   \n",
              "3      0      0     0       0         0        0         0           0   \n",
              "4      0      0     0       0         0        0         0           0   \n",
              "..   ...    ...   ...     ...       ...      ...       ...         ...   \n",
              "251    0      0     0       0         0        0         0           0   \n",
              "252    1      1     0       0         0        0         0           0   \n",
              "253    0      1     0       0         0        0         0           0   \n",
              "254    0      0     0       0         0        0         0           0   \n",
              "255    0      0     0       0         0        0         0           0   \n",
              "\n",
              "     Blue Norm  \n",
              "0            0  \n",
              "1            5  \n",
              "2            0  \n",
              "3            0  \n",
              "4            0  \n",
              "..         ...  \n",
              "251          0  \n",
              "252          0  \n",
              "253          0  \n",
              "254          0  \n",
              "255          0  \n",
              "\n",
              "[256 rows x 9 columns]"
            ]
          },
          "execution_count": 16,
          "metadata": {},
          "output_type": "execute_result"
        }
      ],
      "source": [
        "value_r = []\n",
        "value_g = []\n",
        "value_b = []\n",
        "\n",
        "greyscale_r = []\n",
        "greyscale_g = []\n",
        "greyscale_b = []\n",
        "\n",
        "value_r_norm = []\n",
        "value_g_norm = []\n",
        "value_b_norm = []\n",
        "\n",
        "# RGB\n",
        "# get value red\n",
        "get_value(df[\"Red\"], value_r)\n",
        "# get value blue\n",
        "get_value(df[\"Green\"], value_g)\n",
        "# get value red\n",
        "get_value(df[\"Blue\"], value_b)\n",
        "\n",
        "# Grayscale\n",
        "# get value red\n",
        "get_value(df_grey[\"Red\"], greyscale_r)\n",
        "# get value blue\n",
        "get_value(df_grey[\"Green\"], greyscale_g)\n",
        "# get value red\n",
        "get_value(df_grey[\"Blue\"], greyscale_b)\n",
        "\n",
        "# Norm\n",
        "get_value(df_norm[\"Red\"], value_r_norm)\n",
        "# get value blue\n",
        "get_value(df_norm[\"Green\"], value_g_norm)\n",
        "# get value red\n",
        "get_value(df_norm[\"Blue\"], value_b_norm)\n",
        "\n",
        "show_hist = pd.DataFrame()\n",
        "\n",
        "show_hist.insert(0, \"Red\", value_r)\n",
        "\n",
        "show_hist.insert(1, \"Green\", value_g)\n",
        "\n",
        "show_hist.insert(2, \"Blue\", value_b)\n",
        "\n",
        "show_hist.insert(3, \"G. Red\", greyscale_r)\n",
        "\n",
        "show_hist.insert(4, \"G. Green\", greyscale_g)\n",
        "\n",
        "show_hist.insert(5, \"G. Blue\", greyscale_b)\n",
        "\n",
        "show_hist.insert(6, \"Red Norm\", value_r_norm)\n",
        "\n",
        "show_hist.insert(7, \"Green Norm\", value_g_norm)\n",
        "\n",
        "show_hist.insert(8, \"Blue Norm\", value_g_norm)\n",
        "\n",
        "show_hist"
      ]
    },
    {
      "cell_type": "markdown",
      "metadata": {},
      "source": [
        "## 3. Convert RGB to HSL"
      ]
    },
    {
      "cell_type": "code",
      "execution_count": 17,
      "metadata": {},
      "outputs": [],
      "source": [
        "def convert_rgb_to_hsl(width, height, pixel_map, image):\n",
        "    for i in range(width):\n",
        "        for j in range(height):\n",
        "            \n",
        "           # Getting the RGB pixel value.\n",
        "            r, g, b = image.getpixel((i, j))\n",
        "\n",
        "            # Normalize RGB values to the range [0, 1]\n",
        "            r /= 255.0\n",
        "            g /= 255.0\n",
        "            b /= 255.0\n",
        "\n",
        "            # Convert RGB to HSL\n",
        "            h, l, s = colorsys.rgb_to_hls(r, g, b)\n",
        "\n",
        "            # Scale HSL values to the range [0, 255]\n",
        "            h = int(h * 255)\n",
        "            s = int(s * 255)\n",
        "            l = int(l * 255)\n",
        "\n",
        "            # Setting the pixel value.\n",
        "            pixel_map[i, j] = (h, l, s)\n",
        "\n",
        "    image.save(\"muhehe_hsl.png\", format=\"png\")\n"
      ]
    },
    {
      "cell_type": "code",
      "execution_count": 18,
      "metadata": {},
      "outputs": [
        {
          "data": {
            "text/html": [
              "<div>\n",
              "<style scoped>\n",
              "    .dataframe tbody tr th:only-of-type {\n",
              "        vertical-align: middle;\n",
              "    }\n",
              "\n",
              "    .dataframe tbody tr th {\n",
              "        vertical-align: top;\n",
              "    }\n",
              "\n",
              "    .dataframe thead th {\n",
              "        text-align: right;\n",
              "    }\n",
              "</style>\n",
              "<table border=\"1\" class=\"dataframe\">\n",
              "  <thead>\n",
              "    <tr style=\"text-align: right;\">\n",
              "      <th></th>\n",
              "      <th>Hue</th>\n",
              "      <th>Lightness</th>\n",
              "      <th>Saturation</th>\n",
              "    </tr>\n",
              "  </thead>\n",
              "  <tbody>\n",
              "    <tr>\n",
              "      <th>0</th>\n",
              "      <td>252</td>\n",
              "      <td>158</td>\n",
              "      <td>194</td>\n",
              "    </tr>\n",
              "    <tr>\n",
              "      <th>1</th>\n",
              "      <td>252</td>\n",
              "      <td>157</td>\n",
              "      <td>192</td>\n",
              "    </tr>\n",
              "    <tr>\n",
              "      <th>2</th>\n",
              "      <td>252</td>\n",
              "      <td>158</td>\n",
              "      <td>194</td>\n",
              "    </tr>\n",
              "    <tr>\n",
              "      <th>3</th>\n",
              "      <td>252</td>\n",
              "      <td>158</td>\n",
              "      <td>194</td>\n",
              "    </tr>\n",
              "    <tr>\n",
              "      <th>4</th>\n",
              "      <td>252</td>\n",
              "      <td>159</td>\n",
              "      <td>196</td>\n",
              "    </tr>\n",
              "    <tr>\n",
              "      <th>...</th>\n",
              "      <td>...</td>\n",
              "      <td>...</td>\n",
              "      <td>...</td>\n",
              "    </tr>\n",
              "    <tr>\n",
              "      <th>74995</th>\n",
              "      <td>252</td>\n",
              "      <td>159</td>\n",
              "      <td>196</td>\n",
              "    </tr>\n",
              "    <tr>\n",
              "      <th>74996</th>\n",
              "      <td>252</td>\n",
              "      <td>158</td>\n",
              "      <td>194</td>\n",
              "    </tr>\n",
              "    <tr>\n",
              "      <th>74997</th>\n",
              "      <td>252</td>\n",
              "      <td>158</td>\n",
              "      <td>194</td>\n",
              "    </tr>\n",
              "    <tr>\n",
              "      <th>74998</th>\n",
              "      <td>252</td>\n",
              "      <td>158</td>\n",
              "      <td>194</td>\n",
              "    </tr>\n",
              "    <tr>\n",
              "      <th>74999</th>\n",
              "      <td>252</td>\n",
              "      <td>157</td>\n",
              "      <td>192</td>\n",
              "    </tr>\n",
              "  </tbody>\n",
              "</table>\n",
              "<p>75000 rows × 3 columns</p>\n",
              "</div>"
            ],
            "text/plain": [
              "       Hue  Lightness  Saturation\n",
              "0      252        158         194\n",
              "1      252        157         192\n",
              "2      252        158         194\n",
              "3      252        158         194\n",
              "4      252        159         196\n",
              "...    ...        ...         ...\n",
              "74995  252        159         196\n",
              "74996  252        158         194\n",
              "74997  252        158         194\n",
              "74998  252        158         194\n",
              "74999  252        157         192\n",
              "\n",
              "[75000 rows x 3 columns]"
            ]
          },
          "execution_count": 18,
          "metadata": {},
          "output_type": "execute_result"
        }
      ],
      "source": [
        "im_hsl = Image.open('muhehe.png').convert(\"RGB\")\n",
        "\n",
        "image_hsl = im_hsl.resize((250, 300))\n",
        "\n",
        "# Extracting pixel map:\n",
        "pixel_map_hsl = image_hsl.load()\n",
        "\n",
        "# Extracting the width and height\n",
        "# of the image:\n",
        "width, height = image_hsl.size\n",
        "\n",
        "convert_rgb_to_hsl(width, height, pixel_map_hsl, image_hsl)\n",
        "\n",
        "pixels_hsl = list(image_hsl.getdata())\n",
        "\n",
        "output_hsl = pd.DataFrame(pixels_hsl)\n",
        "df_hsl = output_hsl.rename(columns={0: 'Hue', 1: \"Lightness\", 2: \"Saturation\"})\n",
        "df_hsl"
      ]
    },
    {
      "cell_type": "code",
      "execution_count": 19,
      "metadata": {},
      "outputs": [
        {
          "data": {
            "image/png": "[encoded data removed]",
            "text/plain": [
              "<Figure size 432x288 with 1 Axes>"
            ]
          },
          "metadata": {},
          "output_type": "display_data"
        }
      ],
      "source": [
        "# Set title\n",
        "plt.title(\"Histogram Hue Image\")\n",
        "plt.style.use('seaborn-whitegrid')\n",
        "plt.hist(df_hsl, color=[\"orangered\", \"springgreen\", \"deepskyblue\"],\n",
        "         bins=3, label=[\"Hue\", \"Lightness\", \"Saturation\"])\n",
        "\n",
        "plt.legend(bbox_to_anchor=(0.80, 1.25), ncol=3)\n",
        "\n",
        "plt.show()"
      ]
    },
    {
      "cell_type": "markdown",
      "metadata": {},
      "source": [
        "## 4. Operasi pada citra"
      ]
    },
    {
      "cell_type": "markdown",
      "metadata": {},
      "source": [
        "### Operasi And"
      ]
    },
    {
      "cell_type": "code",
      "execution_count": 20,
      "metadata": {},
      "outputs": [
        {
          "data": {
            "image/png": "[encoded data removed]",
            "text/plain": [
              "<PIL.Image.Image image mode=RGB size=300x300 at 0x24A16A5D760>"
            ]
          },
          "execution_count": 20,
          "metadata": {},
          "output_type": "execute_result"
        }
      ],
      "source": [
        "im_and = Image.open('a1.png').convert(\"RGB\")\n",
        "image_and = im_and.resize((300, 300))\n",
        "pixels_and = list(image_and.getdata())\n",
        "image_and"
      ]
    },
    {
      "cell_type": "code",
      "execution_count": 21,
      "metadata": {},
      "outputs": [
        {
          "data": {
            "image/png": "[encoded data removed]",
            "text/plain": [
              "<PIL.Image.Image image mode=RGB size=300x300 at 0x24A16189BE0>"
            ]
          },
          "execution_count": 21,
          "metadata": {},
          "output_type": "execute_result"
        }
      ],
      "source": [
        "im_and_1 = Image.open('a2.png').convert(\"RGB\")\n",
        "image_and_1 = im_and_1.resize((300, 300))\n",
        "pixels_and_1 = list(image_and_1.getdata())\n",
        "image_and_1"
      ]
    },
    {
      "cell_type": "code",
      "execution_count": 22,
      "metadata": {},
      "outputs": [],
      "source": [
        "def operation_and(width, height, pixel_map, image_1, image_2, image_result):\n",
        "    for i in range(width):\n",
        "        for j in range(height):\n",
        "\n",
        "            # getting the RGB pixel value from image 1.\n",
        "            r_1, g_1, b_1 = image_1.getpixel((i, j))\n",
        "            \n",
        "            # getting the RGB pixel value from image 2.\n",
        "            r_2, g_2, b_2 = image_2.getpixel((i, j))\n",
        "            \n",
        "            r_result = r_1 & r_2\n",
        "            g_result = g_1 & g_2\n",
        "            b_result = b_1 & b_2\n",
        "\n",
        "            # setting the pixel value.\n",
        "            pixel_map[i, j] = (int(r_result), int(g_result), int(b_result))\n",
        "\n",
        "    image_result.save(\"and.png\", format=\"png\")"
      ]
    },
    {
      "cell_type": "code",
      "execution_count": 23,
      "metadata": {},
      "outputs": [
        {
          "data": {
            "text/html": [
              "<div>\n",
              "<style scoped>\n",
              "    .dataframe tbody tr th:only-of-type {\n",
              "        vertical-align: middle;\n",
              "    }\n",
              "\n",
              "    .dataframe tbody tr th {\n",
              "        vertical-align: top;\n",
              "    }\n",
              "\n",
              "    .dataframe thead th {\n",
              "        text-align: right;\n",
              "    }\n",
              "</style>\n",
              "<table border=\"1\" class=\"dataframe\">\n",
              "  <thead>\n",
              "    <tr style=\"text-align: right;\">\n",
              "      <th></th>\n",
              "      <th>Red</th>\n",
              "      <th>Green</th>\n",
              "      <th>Blue</th>\n",
              "    </tr>\n",
              "  </thead>\n",
              "  <tbody>\n",
              "    <tr>\n",
              "      <th>0</th>\n",
              "      <td>255</td>\n",
              "      <td>255</td>\n",
              "      <td>255</td>\n",
              "    </tr>\n",
              "    <tr>\n",
              "      <th>1</th>\n",
              "      <td>255</td>\n",
              "      <td>255</td>\n",
              "      <td>255</td>\n",
              "    </tr>\n",
              "    <tr>\n",
              "      <th>2</th>\n",
              "      <td>255</td>\n",
              "      <td>255</td>\n",
              "      <td>255</td>\n",
              "    </tr>\n",
              "    <tr>\n",
              "      <th>3</th>\n",
              "      <td>255</td>\n",
              "      <td>255</td>\n",
              "      <td>255</td>\n",
              "    </tr>\n",
              "    <tr>\n",
              "      <th>4</th>\n",
              "      <td>255</td>\n",
              "      <td>255</td>\n",
              "      <td>255</td>\n",
              "    </tr>\n",
              "    <tr>\n",
              "      <th>...</th>\n",
              "      <td>...</td>\n",
              "      <td>...</td>\n",
              "      <td>...</td>\n",
              "    </tr>\n",
              "    <tr>\n",
              "      <th>89995</th>\n",
              "      <td>255</td>\n",
              "      <td>255</td>\n",
              "      <td>255</td>\n",
              "    </tr>\n",
              "    <tr>\n",
              "      <th>89996</th>\n",
              "      <td>255</td>\n",
              "      <td>255</td>\n",
              "      <td>255</td>\n",
              "    </tr>\n",
              "    <tr>\n",
              "      <th>89997</th>\n",
              "      <td>255</td>\n",
              "      <td>255</td>\n",
              "      <td>255</td>\n",
              "    </tr>\n",
              "    <tr>\n",
              "      <th>89998</th>\n",
              "      <td>255</td>\n",
              "      <td>255</td>\n",
              "      <td>255</td>\n",
              "    </tr>\n",
              "    <tr>\n",
              "      <th>89999</th>\n",
              "      <td>255</td>\n",
              "      <td>255</td>\n",
              "      <td>255</td>\n",
              "    </tr>\n",
              "  </tbody>\n",
              "</table>\n",
              "<p>90000 rows × 3 columns</p>\n",
              "</div>"
            ],
            "text/plain": [
              "       Red  Green  Blue\n",
              "0      255    255   255\n",
              "1      255    255   255\n",
              "2      255    255   255\n",
              "3      255    255   255\n",
              "4      255    255   255\n",
              "...    ...    ...   ...\n",
              "89995  255    255   255\n",
              "89996  255    255   255\n",
              "89997  255    255   255\n",
              "89998  255    255   255\n",
              "89999  255    255   255\n",
              "\n",
              "[90000 rows x 3 columns]"
            ]
          },
          "execution_count": 23,
          "metadata": {},
          "output_type": "execute_result"
        }
      ],
      "source": [
        "# Extracting pixel map:\n",
        "pixel_map_and = image_and.load()\n",
        "\n",
        "pixel_map_and_1 = image_and_1.load()\n",
        "\n",
        "# Extracting the width and height\n",
        "# of the image:\n",
        "width, height = image_and.size\n",
        "\n",
        "result_image_and = Image.new(\"RGB\", (width, height))\n",
        "\n",
        "pixel_map_result_and = result_image_and.load()\n",
        "\n",
        "operation_and(width, height, pixel_map_result_and, image_and, image_and_1, result_image_and)\n",
        "\n",
        "pixels_and_result = list(result_image_and.getdata())\n",
        "\n",
        "output_and = pd.DataFrame(pixels_and_result)\n",
        "df_and = output_and.rename(columns={0: 'Red', 1: \"Green\", 2: \"Blue\"})\n",
        "df_and"
      ]
    },
    {
      "cell_type": "code",
      "execution_count": 24,
      "metadata": {},
      "outputs": [
        {
          "data": {
            "text/html": [
              "<div>\n",
              "<style scoped>\n",
              "    .dataframe tbody tr th:only-of-type {\n",
              "        vertical-align: middle;\n",
              "    }\n",
              "\n",
              "    .dataframe tbody tr th {\n",
              "        vertical-align: top;\n",
              "    }\n",
              "\n",
              "    .dataframe thead th {\n",
              "        text-align: right;\n",
              "    }\n",
              "</style>\n",
              "<table border=\"1\" class=\"dataframe\">\n",
              "  <thead>\n",
              "    <tr style=\"text-align: right;\">\n",
              "      <th></th>\n",
              "      <th>Red</th>\n",
              "      <th>Green</th>\n",
              "      <th>Blue</th>\n",
              "    </tr>\n",
              "  </thead>\n",
              "  <tbody>\n",
              "    <tr>\n",
              "      <th>0</th>\n",
              "      <td>255</td>\n",
              "      <td>255</td>\n",
              "      <td>255</td>\n",
              "    </tr>\n",
              "    <tr>\n",
              "      <th>1</th>\n",
              "      <td>255</td>\n",
              "      <td>255</td>\n",
              "      <td>255</td>\n",
              "    </tr>\n",
              "    <tr>\n",
              "      <th>2</th>\n",
              "      <td>255</td>\n",
              "      <td>255</td>\n",
              "      <td>255</td>\n",
              "    </tr>\n",
              "    <tr>\n",
              "      <th>3</th>\n",
              "      <td>255</td>\n",
              "      <td>255</td>\n",
              "      <td>255</td>\n",
              "    </tr>\n",
              "    <tr>\n",
              "      <th>4</th>\n",
              "      <td>255</td>\n",
              "      <td>255</td>\n",
              "      <td>255</td>\n",
              "    </tr>\n",
              "    <tr>\n",
              "      <th>...</th>\n",
              "      <td>...</td>\n",
              "      <td>...</td>\n",
              "      <td>...</td>\n",
              "    </tr>\n",
              "    <tr>\n",
              "      <th>89995</th>\n",
              "      <td>255</td>\n",
              "      <td>255</td>\n",
              "      <td>255</td>\n",
              "    </tr>\n",
              "    <tr>\n",
              "      <th>89996</th>\n",
              "      <td>255</td>\n",
              "      <td>255</td>\n",
              "      <td>255</td>\n",
              "    </tr>\n",
              "    <tr>\n",
              "      <th>89997</th>\n",
              "      <td>255</td>\n",
              "      <td>255</td>\n",
              "      <td>255</td>\n",
              "    </tr>\n",
              "    <tr>\n",
              "      <th>89998</th>\n",
              "      <td>255</td>\n",
              "      <td>255</td>\n",
              "      <td>255</td>\n",
              "    </tr>\n",
              "    <tr>\n",
              "      <th>89999</th>\n",
              "      <td>255</td>\n",
              "      <td>255</td>\n",
              "      <td>255</td>\n",
              "    </tr>\n",
              "  </tbody>\n",
              "</table>\n",
              "<p>90000 rows × 3 columns</p>\n",
              "</div>"
            ],
            "text/plain": [
              "       Red  Green  Blue\n",
              "0      255    255   255\n",
              "1      255    255   255\n",
              "2      255    255   255\n",
              "3      255    255   255\n",
              "4      255    255   255\n",
              "...    ...    ...   ...\n",
              "89995  255    255   255\n",
              "89996  255    255   255\n",
              "89997  255    255   255\n",
              "89998  255    255   255\n",
              "89999  255    255   255\n",
              "\n",
              "[90000 rows x 3 columns]"
            ]
          },
          "execution_count": 24,
          "metadata": {},
          "output_type": "execute_result"
        }
      ],
      "source": [
        "input_and = pd.DataFrame(pixels_and)\n",
        "df_and_input = input_and.rename(columns={0: 'Red', 1: \"Green\", 2: \"Blue\"})\n",
        "df_and_input"
      ]
    },
    {
      "cell_type": "code",
      "execution_count": 25,
      "metadata": {},
      "outputs": [
        {
          "data": {
            "text/html": [
              "<div>\n",
              "<style scoped>\n",
              "    .dataframe tbody tr th:only-of-type {\n",
              "        vertical-align: middle;\n",
              "    }\n",
              "\n",
              "    .dataframe tbody tr th {\n",
              "        vertical-align: top;\n",
              "    }\n",
              "\n",
              "    .dataframe thead th {\n",
              "        text-align: right;\n",
              "    }\n",
              "</style>\n",
              "<table border=\"1\" class=\"dataframe\">\n",
              "  <thead>\n",
              "    <tr style=\"text-align: right;\">\n",
              "      <th></th>\n",
              "      <th>Red</th>\n",
              "      <th>Green</th>\n",
              "      <th>Blue</th>\n",
              "    </tr>\n",
              "  </thead>\n",
              "  <tbody>\n",
              "    <tr>\n",
              "      <th>0</th>\n",
              "      <td>255</td>\n",
              "      <td>255</td>\n",
              "      <td>255</td>\n",
              "    </tr>\n",
              "    <tr>\n",
              "      <th>1</th>\n",
              "      <td>255</td>\n",
              "      <td>255</td>\n",
              "      <td>255</td>\n",
              "    </tr>\n",
              "    <tr>\n",
              "      <th>2</th>\n",
              "      <td>255</td>\n",
              "      <td>255</td>\n",
              "      <td>255</td>\n",
              "    </tr>\n",
              "    <tr>\n",
              "      <th>3</th>\n",
              "      <td>255</td>\n",
              "      <td>255</td>\n",
              "      <td>255</td>\n",
              "    </tr>\n",
              "    <tr>\n",
              "      <th>4</th>\n",
              "      <td>255</td>\n",
              "      <td>255</td>\n",
              "      <td>255</td>\n",
              "    </tr>\n",
              "    <tr>\n",
              "      <th>...</th>\n",
              "      <td>...</td>\n",
              "      <td>...</td>\n",
              "      <td>...</td>\n",
              "    </tr>\n",
              "    <tr>\n",
              "      <th>89995</th>\n",
              "      <td>255</td>\n",
              "      <td>255</td>\n",
              "      <td>255</td>\n",
              "    </tr>\n",
              "    <tr>\n",
              "      <th>89996</th>\n",
              "      <td>255</td>\n",
              "      <td>255</td>\n",
              "      <td>255</td>\n",
              "    </tr>\n",
              "    <tr>\n",
              "      <th>89997</th>\n",
              "      <td>255</td>\n",
              "      <td>255</td>\n",
              "      <td>255</td>\n",
              "    </tr>\n",
              "    <tr>\n",
              "      <th>89998</th>\n",
              "      <td>255</td>\n",
              "      <td>255</td>\n",
              "      <td>255</td>\n",
              "    </tr>\n",
              "    <tr>\n",
              "      <th>89999</th>\n",
              "      <td>255</td>\n",
              "      <td>255</td>\n",
              "      <td>255</td>\n",
              "    </tr>\n",
              "  </tbody>\n",
              "</table>\n",
              "<p>90000 rows × 3 columns</p>\n",
              "</div>"
            ],
            "text/plain": [
              "       Red  Green  Blue\n",
              "0      255    255   255\n",
              "1      255    255   255\n",
              "2      255    255   255\n",
              "3      255    255   255\n",
              "4      255    255   255\n",
              "...    ...    ...   ...\n",
              "89995  255    255   255\n",
              "89996  255    255   255\n",
              "89997  255    255   255\n",
              "89998  255    255   255\n",
              "89999  255    255   255\n",
              "\n",
              "[90000 rows x 3 columns]"
            ]
          },
          "execution_count": 25,
          "metadata": {},
          "output_type": "execute_result"
        }
      ],
      "source": [
        "input_and_1 = pd.DataFrame(pixels_and_1)\n",
        "df_and_input_1 = input_and_1.rename(columns={0: 'Red', 1: \"Green\", 2: \"Blue\"})\n",
        "df_and_input_1"
      ]
    },
    {
      "cell_type": "code",
      "execution_count": 26,
      "metadata": {},
      "outputs": [
        {
          "data": {
            "image/png": "[encoded data removed]",
            "text/plain": [
              "<Figure size 432x288 with 1 Axes>"
            ]
          },
          "metadata": {},
          "output_type": "display_data"
        }
      ],
      "source": [
        "# Set title\n",
        "plt.title(\"Histogram Image 1\")\n",
        "plt.style.use('seaborn-whitegrid')\n",
        "plt.hist(df_and_input, color=[\"orangered\", \"springgreen\", \"deepskyblue\"],\n",
        "         bins=3, label=[\"Red\", \"Green\", \"Blue\"])\n",
        "\n",
        "plt.legend(bbox_to_anchor=(0.80, 1.25), ncol=3)\n",
        "\n",
        "plt.show()"
      ]
    },
    {
      "cell_type": "code",
      "execution_count": 27,
      "metadata": {},
      "outputs": [
        {
          "data": {
            "image/png": "[encoded data removed]",
            "text/plain": [
              "<Figure size 432x288 with 1 Axes>"
            ]
          },
          "metadata": {},
          "output_type": "display_data"
        }
      ],
      "source": [
        "# Set title\n",
        "plt.title(\"Histogram Image 2\")\n",
        "plt.style.use('seaborn-whitegrid')\n",
        "plt.hist(df_and_input_1, color=[\"orangered\", \"springgreen\", \"deepskyblue\"],\n",
        "         bins=3, label=[\"Red\", \"Green\", \"Blue\"])\n",
        "\n",
        "plt.legend(bbox_to_anchor=(0.80, 1.25), ncol=3)\n",
        "\n",
        "plt.show()"
      ]
    },
    {
      "cell_type": "code",
      "execution_count": 28,
      "metadata": {},
      "outputs": [
        {
          "data": {
            "image/png": "[encoded data removed]",
            "text/plain": [
              "<Figure size 432x288 with 1 Axes>"
            ]
          },
          "metadata": {},
          "output_type": "display_data"
        }
      ],
      "source": [
        "# Set title\n",
        "plt.title(\"Histogram Image 1 Combine Image 2 And\")\n",
        "plt.style.use('seaborn-whitegrid')\n",
        "plt.hist(df_and, color=[\"orangered\", \"springgreen\", \"deepskyblue\"],\n",
        "         bins=3, label=[\"Red\", \"Green\", \"Blue\"])\n",
        "\n",
        "plt.legend(bbox_to_anchor=(0.80, 1.25), ncol=3)\n",
        "\n",
        "plt.show()"
      ]
    },
    {
      "cell_type": "code",
      "execution_count": 29,
      "metadata": {},
      "outputs": [
        {
          "data": {
            "image/png": "[encoded data removed]",
            "text/plain": [
              "<PIL.Image.Image image mode=RGB size=300x300 at 0x24A16A92700>"
            ]
          },
          "execution_count": 29,
          "metadata": {},
          "output_type": "execute_result"
        }
      ],
      "source": [
        "result_image_and"
      ]
    },
    {
      "cell_type": "markdown",
      "metadata": {},
      "source": [
        "### Operasi Or"
      ]
    },
    {
      "cell_type": "code",
      "execution_count": 30,
      "metadata": {},
      "outputs": [
        {
          "data": {
            "image/png": "[encoded data removed]",
            "text/plain": [
              "<PIL.Image.Image image mode=RGB size=300x300 at 0x24A16009820>"
            ]
          },
          "execution_count": 30,
          "metadata": {},
          "output_type": "execute_result"
        }
      ],
      "source": [
        "im_or = Image.open('a1.png').convert(\"RGB\")\n",
        "image_or = im_or.resize((300, 300))\n",
        "pixels_or = list(image_or.getdata())\n",
        "image_or "
      ]
    },
    {
      "cell_type": "code",
      "execution_count": 31,
      "metadata": {},
      "outputs": [
        {
          "data": {
            "image/png": "[encoded data removed]",
            "text/plain": [
              "<PIL.Image.Image image mode=RGB size=300x300 at 0x24A16132640>"
            ]
          },
          "execution_count": 31,
          "metadata": {},
          "output_type": "execute_result"
        }
      ],
      "source": [
        "im_or_1 = Image.open('a2.png').convert(\"RGB\")\n",
        "image_or_1 = im_or_1.resize((300, 300))\n",
        "pixels_or_1 = list(image_or_1.getdata())\n",
        "image_or_1"
      ]
    },
    {
      "cell_type": "code",
      "execution_count": 32,
      "metadata": {},
      "outputs": [],
      "source": [
        "def operation_or(width, height, pixel_map, image_1, image_2, image_result):\n",
        "    for i in range(width):\n",
        "        for j in range(height):\n",
        "\n",
        "            # getting the RGB pixel value from image 1.\n",
        "            r_1, g_1, b_1 = image_1.getpixel((i, j))\n",
        "\n",
        "            # getting the RGB pixel value from image 2.\n",
        "            r_2, g_2, b_2 = image_2.getpixel((i, j))\n",
        "\n",
        "            r_result = r_1 | r_2\n",
        "            g_result = g_1 | g_2\n",
        "            b_result = b_1 | b_2\n",
        "\n",
        "            # setting the pixel value.\n",
        "            pixel_map[i, j] = (int(r_result), int(g_result), int(b_result))\n",
        "\n",
        "    image_result.save(\"or.png\", format=\"png\")"
      ]
    },
    {
      "cell_type": "code",
      "execution_count": 33,
      "metadata": {},
      "outputs": [
        {
          "data": {
            "text/html": [
              "<div>\n",
              "<style scoped>\n",
              "    .dataframe tbody tr th:only-of-type {\n",
              "        vertical-align: middle;\n",
              "    }\n",
              "\n",
              "    .dataframe tbody tr th {\n",
              "        vertical-align: top;\n",
              "    }\n",
              "\n",
              "    .dataframe thead th {\n",
              "        text-align: right;\n",
              "    }\n",
              "</style>\n",
              "<table border=\"1\" class=\"dataframe\">\n",
              "  <thead>\n",
              "    <tr style=\"text-align: right;\">\n",
              "      <th></th>\n",
              "      <th>Red</th>\n",
              "      <th>Green</th>\n",
              "      <th>Blue</th>\n",
              "    </tr>\n",
              "  </thead>\n",
              "  <tbody>\n",
              "    <tr>\n",
              "      <th>0</th>\n",
              "      <td>255</td>\n",
              "      <td>255</td>\n",
              "      <td>255</td>\n",
              "    </tr>\n",
              "    <tr>\n",
              "      <th>1</th>\n",
              "      <td>255</td>\n",
              "      <td>255</td>\n",
              "      <td>255</td>\n",
              "    </tr>\n",
              "    <tr>\n",
              "      <th>2</th>\n",
              "      <td>255</td>\n",
              "      <td>255</td>\n",
              "      <td>255</td>\n",
              "    </tr>\n",
              "    <tr>\n",
              "      <th>3</th>\n",
              "      <td>255</td>\n",
              "      <td>255</td>\n",
              "      <td>255</td>\n",
              "    </tr>\n",
              "    <tr>\n",
              "      <th>4</th>\n",
              "      <td>255</td>\n",
              "      <td>255</td>\n",
              "      <td>255</td>\n",
              "    </tr>\n",
              "    <tr>\n",
              "      <th>...</th>\n",
              "      <td>...</td>\n",
              "      <td>...</td>\n",
              "      <td>...</td>\n",
              "    </tr>\n",
              "    <tr>\n",
              "      <th>89995</th>\n",
              "      <td>255</td>\n",
              "      <td>255</td>\n",
              "      <td>255</td>\n",
              "    </tr>\n",
              "    <tr>\n",
              "      <th>89996</th>\n",
              "      <td>255</td>\n",
              "      <td>255</td>\n",
              "      <td>255</td>\n",
              "    </tr>\n",
              "    <tr>\n",
              "      <th>89997</th>\n",
              "      <td>255</td>\n",
              "      <td>255</td>\n",
              "      <td>255</td>\n",
              "    </tr>\n",
              "    <tr>\n",
              "      <th>89998</th>\n",
              "      <td>255</td>\n",
              "      <td>255</td>\n",
              "      <td>255</td>\n",
              "    </tr>\n",
              "    <tr>\n",
              "      <th>89999</th>\n",
              "      <td>255</td>\n",
              "      <td>255</td>\n",
              "      <td>255</td>\n",
              "    </tr>\n",
              "  </tbody>\n",
              "</table>\n",
              "<p>90000 rows × 3 columns</p>\n",
              "</div>"
            ],
            "text/plain": [
              "       Red  Green  Blue\n",
              "0      255    255   255\n",
              "1      255    255   255\n",
              "2      255    255   255\n",
              "3      255    255   255\n",
              "4      255    255   255\n",
              "...    ...    ...   ...\n",
              "89995  255    255   255\n",
              "89996  255    255   255\n",
              "89997  255    255   255\n",
              "89998  255    255   255\n",
              "89999  255    255   255\n",
              "\n",
              "[90000 rows x 3 columns]"
            ]
          },
          "execution_count": 33,
          "metadata": {},
          "output_type": "execute_result"
        }
      ],
      "source": [
        "# Extracting pixel map:\n",
        "pixel_map_or = image_or.load()\n",
        "\n",
        "pixel_map_or_1 = image_or_1.load()\n",
        "\n",
        "# Extracting the width and height\n",
        "# of the image:\n",
        "width, height = image_or.size\n",
        "\n",
        "result_image_or = Image.new(\"RGB\", (width, height))\n",
        "\n",
        "pixel_map_result_or = result_image_or.load()\n",
        "\n",
        "operation_or(width, height, pixel_map_result_or,\n",
        "              image_or, image_or_1, result_image_or)\n",
        "\n",
        "pixels_or_result = list(result_image_or.getdata())\n",
        "\n",
        "output_or = pd.DataFrame(pixels_or_result)\n",
        "\n",
        "df_or = output_or.rename(columns={0: 'Red', 1: \"Green\", 2: \"Blue\"})\n",
        "\n",
        "df_or"
      ]
    },
    {
      "cell_type": "code",
      "execution_count": 34,
      "metadata": {},
      "outputs": [
        {
          "data": {
            "image/png": "[encoded data removed]",
            "text/plain": [
              "<Figure size 432x288 with 1 Axes>"
            ]
          },
          "metadata": {},
          "output_type": "display_data"
        }
      ],
      "source": [
        "# Set title\n",
        "plt.title(\"Histogram Image 1 Combine Image 2 Or\")\n",
        "plt.style.use('seaborn-whitegrid')\n",
        "plt.hist(df_or, color=[\"orangered\", \"springgreen\", \"deepskyblue\"],\n",
        "         bins=3, label=[\"Red\", \"Green\", \"Blue\"])\n",
        "\n",
        "plt.legend(bbox_to_anchor=(0.80, 1.25), ncol=3)\n",
        "\n",
        "plt.show()\n"
      ]
    },
    {
      "cell_type": "code",
      "execution_count": 35,
      "metadata": {},
      "outputs": [
        {
          "data": {
            "image/png": "[encoded data removed]",
            "text/plain": [
              "<PIL.Image.Image image mode=RGB size=300x300 at 0x24A16017C40>"
            ]
          },
          "execution_count": 35,
          "metadata": {},
          "output_type": "execute_result"
        }
      ],
      "source": [
        "result_image_or"
      ]
    },
    {
      "cell_type": "markdown",
      "metadata": {},
      "source": [
        "### Operasi XOR"
      ]
    },
    {
      "cell_type": "code",
      "execution_count": 36,
      "metadata": {},
      "outputs": [
        {
          "data": {
            "image/png": "[encoded data removed]",
            "text/plain": [
              "<PIL.Image.Image image mode=RGB size=300x300 at 0x24A16A76C10>"
            ]
          },
          "execution_count": 36,
          "metadata": {},
          "output_type": "execute_result"
        }
      ],
      "source": [
        "im_xor = Image.open('a1.png').convert(\"RGB\")\n",
        "image_xor = im_xor.resize((300, 300))\n",
        "pixels_xor = list(image_xor.getdata())\n",
        "image_xor"
      ]
    },
    {
      "cell_type": "code",
      "execution_count": 37,
      "metadata": {},
      "outputs": [
        {
          "data": {
            "image/png": "[encoded data removed]",
            "text/plain": [
              "<PIL.Image.Image image mode=RGB size=300x300 at 0x24A161F00A0>"
            ]
          },
          "execution_count": 37,
          "metadata": {},
          "output_type": "execute_result"
        }
      ],
      "source": [
        "im_xor_1 = Image.open('a2.png').convert(\"RGB\")\n",
        "image_xor_1 = im_xor_1.resize((300, 300))\n",
        "pixels_xor_1 = list(image_xor_1.getdata())\n",
        "image_xor_1"
      ]
    },
    {
      "cell_type": "code",
      "execution_count": 38,
      "metadata": {},
      "outputs": [],
      "source": [
        "def operation_xor(width, height, pixel_map, image_1, image_2, image_result):\n",
        "    for i in range(width):\n",
        "        for j in range(height):\n",
        "\n",
        "            # getting the RGB pixel value from image 1.\n",
        "            r_1, g_1, b_1 = image_1.getpixel((i, j))\n",
        "\n",
        "            # getting the RGB pixel value from image 2.\n",
        "            r_2, g_2, b_2 = image_2.getpixel((i, j))\n",
        "\n",
        "            r_result = r_1 ^ r_2\n",
        "            g_result = g_1 ^ g_2\n",
        "            b_result = b_1 ^ b_2\n",
        "\n",
        "            # setting the pixel value.\n",
        "            pixel_map[i, j] = (int(r_result), int(g_result), int(b_result))\n",
        "\n",
        "    image_result.save(\"xor.png\", format=\"png\")"
      ]
    },
    {
      "cell_type": "code",
      "execution_count": 39,
      "metadata": {},
      "outputs": [
        {
          "data": {
            "text/html": [
              "<div>\n",
              "<style scoped>\n",
              "    .dataframe tbody tr th:only-of-type {\n",
              "        vertical-align: middle;\n",
              "    }\n",
              "\n",
              "    .dataframe tbody tr th {\n",
              "        vertical-align: top;\n",
              "    }\n",
              "\n",
              "    .dataframe thead th {\n",
              "        text-align: right;\n",
              "    }\n",
              "</style>\n",
              "<table border=\"1\" class=\"dataframe\">\n",
              "  <thead>\n",
              "    <tr style=\"text-align: right;\">\n",
              "      <th></th>\n",
              "      <th>Red</th>\n",
              "      <th>Green</th>\n",
              "      <th>Blue</th>\n",
              "    </tr>\n",
              "  </thead>\n",
              "  <tbody>\n",
              "    <tr>\n",
              "      <th>0</th>\n",
              "      <td>0</td>\n",
              "      <td>0</td>\n",
              "      <td>0</td>\n",
              "    </tr>\n",
              "    <tr>\n",
              "      <th>1</th>\n",
              "      <td>0</td>\n",
              "      <td>0</td>\n",
              "      <td>0</td>\n",
              "    </tr>\n",
              "    <tr>\n",
              "      <th>2</th>\n",
              "      <td>0</td>\n",
              "      <td>0</td>\n",
              "      <td>0</td>\n",
              "    </tr>\n",
              "    <tr>\n",
              "      <th>3</th>\n",
              "      <td>0</td>\n",
              "      <td>0</td>\n",
              "      <td>0</td>\n",
              "    </tr>\n",
              "    <tr>\n",
              "      <th>4</th>\n",
              "      <td>0</td>\n",
              "      <td>0</td>\n",
              "      <td>0</td>\n",
              "    </tr>\n",
              "    <tr>\n",
              "      <th>...</th>\n",
              "      <td>...</td>\n",
              "      <td>...</td>\n",
              "      <td>...</td>\n",
              "    </tr>\n",
              "    <tr>\n",
              "      <th>89995</th>\n",
              "      <td>0</td>\n",
              "      <td>0</td>\n",
              "      <td>0</td>\n",
              "    </tr>\n",
              "    <tr>\n",
              "      <th>89996</th>\n",
              "      <td>0</td>\n",
              "      <td>0</td>\n",
              "      <td>0</td>\n",
              "    </tr>\n",
              "    <tr>\n",
              "      <th>89997</th>\n",
              "      <td>0</td>\n",
              "      <td>0</td>\n",
              "      <td>0</td>\n",
              "    </tr>\n",
              "    <tr>\n",
              "      <th>89998</th>\n",
              "      <td>0</td>\n",
              "      <td>0</td>\n",
              "      <td>0</td>\n",
              "    </tr>\n",
              "    <tr>\n",
              "      <th>89999</th>\n",
              "      <td>0</td>\n",
              "      <td>0</td>\n",
              "      <td>0</td>\n",
              "    </tr>\n",
              "  </tbody>\n",
              "</table>\n",
              "<p>90000 rows × 3 columns</p>\n",
              "</div>"
            ],
            "text/plain": [
              "       Red  Green  Blue\n",
              "0        0      0     0\n",
              "1        0      0     0\n",
              "2        0      0     0\n",
              "3        0      0     0\n",
              "4        0      0     0\n",
              "...    ...    ...   ...\n",
              "89995    0      0     0\n",
              "89996    0      0     0\n",
              "89997    0      0     0\n",
              "89998    0      0     0\n",
              "89999    0      0     0\n",
              "\n",
              "[90000 rows x 3 columns]"
            ]
          },
          "execution_count": 39,
          "metadata": {},
          "output_type": "execute_result"
        }
      ],
      "source": [
        "# Extracting pixel map:\n",
        "pixel_map_xor = image_xor.load()\n",
        "\n",
        "pixel_map_xor_1 = image_xor_1.load()\n",
        "\n",
        "# Extracting the width and height\n",
        "# of the image:\n",
        "width, height = image_xor.size\n",
        "\n",
        "result_image_xor = Image.new(\"RGB\", (width, height))\n",
        "\n",
        "pixel_map_result_xor = result_image_xor.load()\n",
        "\n",
        "operation_xor(width, height, pixel_map_result_xor,\n",
        "             image_xor, image_xor_1, result_image_xor)\n",
        "\n",
        "pixels_xor_result = list(result_image_xor.getdata())\n",
        "\n",
        "output_xor = pd.DataFrame(pixels_xor_result)\n",
        "\n",
        "df_xor = output_xor.rename(columns={0: 'Red', 1: \"Green\", 2: \"Blue\"})\n",
        "\n",
        "df_xor"
      ]
    },
    {
      "cell_type": "code",
      "execution_count": 40,
      "metadata": {},
      "outputs": [
        {
          "data": {
            "image/png": "[encoded data removed]",
            "text/plain": [
              "<Figure size 432x288 with 1 Axes>"
            ]
          },
          "metadata": {},
          "output_type": "display_data"
        }
      ],
      "source": [
        "# Set title\n",
        "plt.title(\"Histogram Image 1 Combine Image 2 xor\")\n",
        "plt.style.use('seaborn-whitegrid')\n",
        "plt.hist(df_xor, color=[\"orangered\", \"springgreen\", \"deepskyblue\"],\n",
        "         bins=3, label=[\"Red\", \"Green\", \"Blue\"])\n",
        "\n",
        "plt.legend(bbox_to_anchor=(0.80, 1.25), ncol=3)\n",
        "\n",
        "plt.show()"
      ]
    },
    {
      "cell_type": "markdown",
      "metadata": {},
      "source": [
        "### Operasi XNOR"
      ]
    },
    {
      "cell_type": "code",
      "execution_count": 41,
      "metadata": {},
      "outputs": [
        {
          "data": {
            "text/plain": [
              "True"
            ]
          },
          "execution_count": 41,
          "metadata": {},
          "output_type": "execute_result"
        }
      ],
      "source": [
        "import cv2\n",
        "\n",
        "# Load the two input images\n",
        "image1 = cv2.imread('a1.png')\n",
        "image2 = cv2.imread('a2.png')\n",
        "\n",
        "# Ensure that the images have the same dimensions\n",
        "if image1.shape != image2.shape:\n",
        "    raise ValueError(\"Input images must have the same dimensions.\")\n",
        "\n",
        "# Invert the images (bitwise NOT)\n",
        "image1_inverted = cv2.bitwise_xor(image1, image2)\n",
        "\n",
        "# Perform bitwise OR operation on the inverted images\n",
        "result = cv2.bitwise_not(image1_inverted)\n",
        "\n",
        "# Save the XNOR result\n",
        "cv2.imwrite('xnor.png', result)"
      ]
    },
    {
      "cell_type": "code",
      "execution_count": 42,
      "metadata": {},
      "outputs": [
        {
          "data": {
            "image/png": "[encoded data removed]",
            "text/plain": [
              "<PIL.Image.Image image mode=RGB size=300x300 at 0x24A23DAC550>"
            ]
          },
          "execution_count": 42,
          "metadata": {},
          "output_type": "execute_result"
        }
      ],
      "source": [
        "im_xnor = Image.open('xnor.png').convert(\"RGB\")\n",
        "image_xnor = im_xnor.resize((300, 300))\n",
        "pixels_xnor = list(image_xnor.getdata())\n",
        "image_xnor"
      ]
    },
    {
      "cell_type": "code",
      "execution_count": 43,
      "metadata": {},
      "outputs": [
        {
          "data": {
            "text/html": [
              "<div>\n",
              "<style scoped>\n",
              "    .dataframe tbody tr th:only-of-type {\n",
              "        vertical-align: middle;\n",
              "    }\n",
              "\n",
              "    .dataframe tbody tr th {\n",
              "        vertical-align: top;\n",
              "    }\n",
              "\n",
              "    .dataframe thead th {\n",
              "        text-align: right;\n",
              "    }\n",
              "</style>\n",
              "<table border=\"1\" class=\"dataframe\">\n",
              "  <thead>\n",
              "    <tr style=\"text-align: right;\">\n",
              "      <th></th>\n",
              "      <th>Red</th>\n",
              "      <th>Green</th>\n",
              "      <th>Blue</th>\n",
              "    </tr>\n",
              "  </thead>\n",
              "  <tbody>\n",
              "    <tr>\n",
              "      <th>0</th>\n",
              "      <td>255</td>\n",
              "      <td>255</td>\n",
              "      <td>255</td>\n",
              "    </tr>\n",
              "    <tr>\n",
              "      <th>1</th>\n",
              "      <td>255</td>\n",
              "      <td>255</td>\n",
              "      <td>255</td>\n",
              "    </tr>\n",
              "    <tr>\n",
              "      <th>2</th>\n",
              "      <td>255</td>\n",
              "      <td>255</td>\n",
              "      <td>255</td>\n",
              "    </tr>\n",
              "    <tr>\n",
              "      <th>3</th>\n",
              "      <td>255</td>\n",
              "      <td>255</td>\n",
              "      <td>255</td>\n",
              "    </tr>\n",
              "    <tr>\n",
              "      <th>4</th>\n",
              "      <td>255</td>\n",
              "      <td>255</td>\n",
              "      <td>255</td>\n",
              "    </tr>\n",
              "    <tr>\n",
              "      <th>...</th>\n",
              "      <td>...</td>\n",
              "      <td>...</td>\n",
              "      <td>...</td>\n",
              "    </tr>\n",
              "    <tr>\n",
              "      <th>89995</th>\n",
              "      <td>255</td>\n",
              "      <td>255</td>\n",
              "      <td>255</td>\n",
              "    </tr>\n",
              "    <tr>\n",
              "      <th>89996</th>\n",
              "      <td>255</td>\n",
              "      <td>255</td>\n",
              "      <td>255</td>\n",
              "    </tr>\n",
              "    <tr>\n",
              "      <th>89997</th>\n",
              "      <td>255</td>\n",
              "      <td>255</td>\n",
              "      <td>255</td>\n",
              "    </tr>\n",
              "    <tr>\n",
              "      <th>89998</th>\n",
              "      <td>255</td>\n",
              "      <td>255</td>\n",
              "      <td>255</td>\n",
              "    </tr>\n",
              "    <tr>\n",
              "      <th>89999</th>\n",
              "      <td>255</td>\n",
              "      <td>255</td>\n",
              "      <td>255</td>\n",
              "    </tr>\n",
              "  </tbody>\n",
              "</table>\n",
              "<p>90000 rows × 3 columns</p>\n",
              "</div>"
            ],
            "text/plain": [
              "       Red  Green  Blue\n",
              "0      255    255   255\n",
              "1      255    255   255\n",
              "2      255    255   255\n",
              "3      255    255   255\n",
              "4      255    255   255\n",
              "...    ...    ...   ...\n",
              "89995  255    255   255\n",
              "89996  255    255   255\n",
              "89997  255    255   255\n",
              "89998  255    255   255\n",
              "89999  255    255   255\n",
              "\n",
              "[90000 rows x 3 columns]"
            ]
          },
          "execution_count": 43,
          "metadata": {},
          "output_type": "execute_result"
        }
      ],
      "source": [
        "output_xnor = pd.DataFrame(pixels_xnor)\n",
        "\n",
        "df_xnor = output_xnor.rename(columns={0: 'Red', 1: \"Green\", 2: \"Blue\"})\n",
        "\n",
        "df_xnor"
      ]
    },
    {
      "cell_type": "code",
      "execution_count": 44,
      "metadata": {},
      "outputs": [
        {
          "data": {
            "image/png": "[encoded data removed]",
            "text/plain": [
              "<Figure size 432x288 with 1 Axes>"
            ]
          },
          "metadata": {},
          "output_type": "display_data"
        }
      ],
      "source": [
        "# Set title\n",
        "plt.title(\"Histogram Image 1 Combine Image 2 xnor\")\n",
        "plt.style.use('seaborn-whitegrid')\n",
        "plt.hist(df_xnor, color=[\"orangered\", \"springgreen\", \"deepskyblue\"],\n",
        "         bins=3, label=[\"Red\", \"Green\", \"Blue\"])\n",
        "\n",
        "plt.legend(bbox_to_anchor=(0.80, 1.25), ncol=3)\n",
        "\n",
        "plt.show()\n"
      ]
    },
    {
      "cell_type": "markdown",
      "metadata": {},
      "source": [
        "### Operasi NAND"
      ]
    },
    {
      "cell_type": "code",
      "execution_count": 45,
      "metadata": {},
      "outputs": [
        {
          "data": {
            "text/plain": [
              "True"
            ]
          },
          "execution_count": 45,
          "metadata": {},
          "output_type": "execute_result"
        }
      ],
      "source": [
        "import cv2\n",
        "\n",
        "# Load the two input images\n",
        "image1 = cv2.imread('a1.png')\n",
        "image2 = cv2.imread('a2.png')\n",
        "\n",
        "# Ensure that the images have the same dimensions\n",
        "if image1.shape != image2.shape:\n",
        "    raise ValueError(\"Input images must have the same dimensions.\")\n",
        "\n",
        "# Invert the images (bitwise NOT)\n",
        "image1_inverted = cv2.bitwise_not(image1)\n",
        "image2_inverted = cv2.bitwise_not(image2)\n",
        "\n",
        "# Perform bitwise OR operation on the inverted images\n",
        "result = cv2.bitwise_and(image1_inverted, image2_inverted)\n",
        "\n",
        "# Save the XNOR result\n",
        "cv2.imwrite('nand.png', result)"
      ]
    },
    {
      "cell_type": "code",
      "execution_count": 46,
      "metadata": {},
      "outputs": [
        {
          "data": {
            "image/png": "[encoded data removed]",
            "text/plain": [
              "<PIL.Image.Image image mode=RGB size=300x300 at 0x24A16A5DA30>"
            ]
          },
          "execution_count": 46,
          "metadata": {},
          "output_type": "execute_result"
        }
      ],
      "source": [
        "im_nand = Image.open('nand.png').convert(\"RGB\")\n",
        "image_nand = im_nand.resize((300, 300))\n",
        "pixels_nand = list(image_nand.getdata())\n",
        "image_nand"
      ]
    },
    {
      "cell_type": "code",
      "execution_count": 47,
      "metadata": {},
      "outputs": [
        {
          "data": {
            "text/html": [
              "<div>\n",
              "<style scoped>\n",
              "    .dataframe tbody tr th:only-of-type {\n",
              "        vertical-align: middle;\n",
              "    }\n",
              "\n",
              "    .dataframe tbody tr th {\n",
              "        vertical-align: top;\n",
              "    }\n",
              "\n",
              "    .dataframe thead th {\n",
              "        text-align: right;\n",
              "    }\n",
              "</style>\n",
              "<table border=\"1\" class=\"dataframe\">\n",
              "  <thead>\n",
              "    <tr style=\"text-align: right;\">\n",
              "      <th></th>\n",
              "      <th>Red</th>\n",
              "      <th>Green</th>\n",
              "      <th>Blue</th>\n",
              "    </tr>\n",
              "  </thead>\n",
              "  <tbody>\n",
              "    <tr>\n",
              "      <th>0</th>\n",
              "      <td>0</td>\n",
              "      <td>0</td>\n",
              "      <td>0</td>\n",
              "    </tr>\n",
              "    <tr>\n",
              "      <th>1</th>\n",
              "      <td>0</td>\n",
              "      <td>0</td>\n",
              "      <td>0</td>\n",
              "    </tr>\n",
              "    <tr>\n",
              "      <th>2</th>\n",
              "      <td>0</td>\n",
              "      <td>0</td>\n",
              "      <td>0</td>\n",
              "    </tr>\n",
              "    <tr>\n",
              "      <th>3</th>\n",
              "      <td>0</td>\n",
              "      <td>0</td>\n",
              "      <td>0</td>\n",
              "    </tr>\n",
              "    <tr>\n",
              "      <th>4</th>\n",
              "      <td>0</td>\n",
              "      <td>0</td>\n",
              "      <td>0</td>\n",
              "    </tr>\n",
              "    <tr>\n",
              "      <th>...</th>\n",
              "      <td>...</td>\n",
              "      <td>...</td>\n",
              "      <td>...</td>\n",
              "    </tr>\n",
              "    <tr>\n",
              "      <th>89995</th>\n",
              "      <td>0</td>\n",
              "      <td>0</td>\n",
              "      <td>0</td>\n",
              "    </tr>\n",
              "    <tr>\n",
              "      <th>89996</th>\n",
              "      <td>0</td>\n",
              "      <td>0</td>\n",
              "      <td>0</td>\n",
              "    </tr>\n",
              "    <tr>\n",
              "      <th>89997</th>\n",
              "      <td>0</td>\n",
              "      <td>0</td>\n",
              "      <td>0</td>\n",
              "    </tr>\n",
              "    <tr>\n",
              "      <th>89998</th>\n",
              "      <td>0</td>\n",
              "      <td>0</td>\n",
              "      <td>0</td>\n",
              "    </tr>\n",
              "    <tr>\n",
              "      <th>89999</th>\n",
              "      <td>0</td>\n",
              "      <td>0</td>\n",
              "      <td>0</td>\n",
              "    </tr>\n",
              "  </tbody>\n",
              "</table>\n",
              "<p>90000 rows × 3 columns</p>\n",
              "</div>"
            ],
            "text/plain": [
              "       Red  Green  Blue\n",
              "0        0      0     0\n",
              "1        0      0     0\n",
              "2        0      0     0\n",
              "3        0      0     0\n",
              "4        0      0     0\n",
              "...    ...    ...   ...\n",
              "89995    0      0     0\n",
              "89996    0      0     0\n",
              "89997    0      0     0\n",
              "89998    0      0     0\n",
              "89999    0      0     0\n",
              "\n",
              "[90000 rows x 3 columns]"
            ]
          },
          "execution_count": 47,
          "metadata": {},
          "output_type": "execute_result"
        }
      ],
      "source": [
        "output_nand = pd.DataFrame(pixels_nand)\n",
        "\n",
        "df_nand = output_nand.rename(columns={0: 'Red', 1: \"Green\", 2: \"Blue\"})\n",
        "\n",
        "df_nand"
      ]
    },
    {
      "cell_type": "code",
      "execution_count": 48,
      "metadata": {},
      "outputs": [
        {
          "data": {
            "image/png": "[encoded data removed]",
            "text/plain": [
              "<Figure size 432x288 with 1 Axes>"
            ]
          },
          "metadata": {},
          "output_type": "display_data"
        }
      ],
      "source": [
        "# Set title\n",
        "plt.title(\"Histogram Image 1 Combine Image 2 NAND\")\n",
        "\n",
        "plt.style.use('seaborn-whitegrid')\n",
        "plt.hist(df_nand, color=[\"orangered\", \"springgreen\", \"deepskyblue\"],\n",
        "         bins=3, label=[\"Red\", \"Green\", \"Blue\"])\n",
        "\n",
        "plt.legend(bbox_to_anchor=(0.80, 1.25), ncol=3)\n",
        "\n",
        "plt.show()"
      ]
    },
    {
      "cell_type": "markdown",
      "metadata": {},
      "source": [
        "### Operasi NOR"
      ]
    },
    {
      "cell_type": "code",
      "execution_count": 49,
      "metadata": {},
      "outputs": [
        {
          "data": {
            "text/plain": [
              "True"
            ]
          },
          "execution_count": 49,
          "metadata": {},
          "output_type": "execute_result"
        }
      ],
      "source": [
        "import cv2\n",
        "\n",
        "# Load the two input images\n",
        "image1 = cv2.imread('a1.png')\n",
        "image2 = cv2.imread('a2.png')\n",
        "\n",
        "# Ensure that the images have the same dimensions\n",
        "if image1.shape != image2.shape:\n",
        "    raise ValueError(\"Input images must have the same dimensions.\")\n",
        "\n",
        "# Invert the images (bitwise NOT)\n",
        "image1_inverted = cv2.bitwise_not(image1)\n",
        "image2_inverted = cv2.bitwise_not(image2)\n",
        "\n",
        "# Perform bitwise OR operation on the inverted images\n",
        "result = cv2.bitwise_or(image1_inverted, image2_inverted)\n",
        "\n",
        "# Save the XNOR result\n",
        "cv2.imwrite('nor.png', result)"
      ]
    },
    {
      "cell_type": "code",
      "execution_count": 50,
      "metadata": {},
      "outputs": [
        {
          "data": {
            "image/png": "[encoded data removed]",
            "text/plain": [
              "<PIL.Image.Image image mode=RGB size=300x300 at 0x24A25FDE6D0>"
            ]
          },
          "execution_count": 50,
          "metadata": {},
          "output_type": "execute_result"
        }
      ],
      "source": [
        "im_nor = Image.open('nor.png').convert(\"RGB\")\n",
        "image_nor = im_nor.resize((300, 300))\n",
        "pixels_nor = list(image_nor.getdata())\n",
        "image_nor"
      ]
    },
    {
      "cell_type": "code",
      "execution_count": 51,
      "metadata": {},
      "outputs": [
        {
          "data": {
            "text/html": [
              "<div>\n",
              "<style scoped>\n",
              "    .dataframe tbody tr th:only-of-type {\n",
              "        vertical-align: middle;\n",
              "    }\n",
              "\n",
              "    .dataframe tbody tr th {\n",
              "        vertical-align: top;\n",
              "    }\n",
              "\n",
              "    .dataframe thead th {\n",
              "        text-align: right;\n",
              "    }\n",
              "</style>\n",
              "<table border=\"1\" class=\"dataframe\">\n",
              "  <thead>\n",
              "    <tr style=\"text-align: right;\">\n",
              "      <th></th>\n",
              "      <th>Red</th>\n",
              "      <th>Green</th>\n",
              "      <th>Blue</th>\n",
              "    </tr>\n",
              "  </thead>\n",
              "  <tbody>\n",
              "    <tr>\n",
              "      <th>0</th>\n",
              "      <td>0</td>\n",
              "      <td>0</td>\n",
              "      <td>0</td>\n",
              "    </tr>\n",
              "    <tr>\n",
              "      <th>1</th>\n",
              "      <td>0</td>\n",
              "      <td>0</td>\n",
              "      <td>0</td>\n",
              "    </tr>\n",
              "    <tr>\n",
              "      <th>2</th>\n",
              "      <td>0</td>\n",
              "      <td>0</td>\n",
              "      <td>0</td>\n",
              "    </tr>\n",
              "    <tr>\n",
              "      <th>3</th>\n",
              "      <td>0</td>\n",
              "      <td>0</td>\n",
              "      <td>0</td>\n",
              "    </tr>\n",
              "    <tr>\n",
              "      <th>4</th>\n",
              "      <td>0</td>\n",
              "      <td>0</td>\n",
              "      <td>0</td>\n",
              "    </tr>\n",
              "    <tr>\n",
              "      <th>...</th>\n",
              "      <td>...</td>\n",
              "      <td>...</td>\n",
              "      <td>...</td>\n",
              "    </tr>\n",
              "    <tr>\n",
              "      <th>89995</th>\n",
              "      <td>0</td>\n",
              "      <td>0</td>\n",
              "      <td>0</td>\n",
              "    </tr>\n",
              "    <tr>\n",
              "      <th>89996</th>\n",
              "      <td>0</td>\n",
              "      <td>0</td>\n",
              "      <td>0</td>\n",
              "    </tr>\n",
              "    <tr>\n",
              "      <th>89997</th>\n",
              "      <td>0</td>\n",
              "      <td>0</td>\n",
              "      <td>0</td>\n",
              "    </tr>\n",
              "    <tr>\n",
              "      <th>89998</th>\n",
              "      <td>0</td>\n",
              "      <td>0</td>\n",
              "      <td>0</td>\n",
              "    </tr>\n",
              "    <tr>\n",
              "      <th>89999</th>\n",
              "      <td>0</td>\n",
              "      <td>0</td>\n",
              "      <td>0</td>\n",
              "    </tr>\n",
              "  </tbody>\n",
              "</table>\n",
              "<p>90000 rows × 3 columns</p>\n",
              "</div>"
            ],
            "text/plain": [
              "       Red  Green  Blue\n",
              "0        0      0     0\n",
              "1        0      0     0\n",
              "2        0      0     0\n",
              "3        0      0     0\n",
              "4        0      0     0\n",
              "...    ...    ...   ...\n",
              "89995    0      0     0\n",
              "89996    0      0     0\n",
              "89997    0      0     0\n",
              "89998    0      0     0\n",
              "89999    0      0     0\n",
              "\n",
              "[90000 rows x 3 columns]"
            ]
          },
          "execution_count": 51,
          "metadata": {},
          "output_type": "execute_result"
        }
      ],
      "source": [
        "output_nor = pd.DataFrame(pixels_nor)\n",
        "\n",
        "df_nor = output_nor.rename(columns={0: 'Red', 1: \"Green\", 2: \"Blue\"})\n",
        "\n",
        "df_nor"
      ]
    },
    {
      "cell_type": "code",
      "execution_count": 52,
      "metadata": {},
      "outputs": [
        {
          "data": {
            "image/png": "[encoded data removed]",
            "text/plain": [
              "<Figure size 432x288 with 1 Axes>"
            ]
          },
          "metadata": {},
          "output_type": "display_data"
        }
      ],
      "source": [
        "# Set title\n",
        "plt.title(\"Histogram Image 1 Combine Image 2 NOR\")\n",
        "\n",
        "plt.style.use('seaborn-whitegrid')\n",
        "plt.hist(df_nor, color=[\"orangered\", \"springgreen\", \"deepskyblue\"],\n",
        "         bins=3, label=[\"Red\", \"Green\", \"Blue\"])\n",
        "\n",
        "plt.legend(bbox_to_anchor=(0.80, 1.25), ncol=3)\n",
        "\n",
        "plt.show()"
      ]
    },
    {
      "cell_type": "markdown",
      "metadata": {},
      "source": [
        "### Operasi +"
      ]
    },
    {
      "cell_type": "code",
      "execution_count": 53,
      "metadata": {},
      "outputs": [
        {
          "data": {
            "text/plain": [
              "True"
            ]
          },
          "execution_count": 53,
          "metadata": {},
          "output_type": "execute_result"
        }
      ],
      "source": [
        "import cv2\n",
        "\n",
        "# Load the two input images\n",
        "image1 = cv2.imread('a1.png')\n",
        "image2 = cv2.imread('a2.png')\n",
        "\n",
        "# Ensure that the images have the same dimensions\n",
        "if image1.shape != image2.shape:\n",
        "    raise ValueError(\"Input images must have the same dimensions.\")\n",
        "\n",
        "# Perform bitwise add operation on the inverted images\n",
        "result = cv2.add(image1 ,image2)\n",
        "\n",
        "# Save the XNOR result\n",
        "cv2.imwrite('add.png', result)"
      ]
    },
    {
      "cell_type": "code",
      "execution_count": 54,
      "metadata": {},
      "outputs": [
        {
          "data": {
            "image/png": "[encoded data removed]",
            "text/plain": [
              "<PIL.Image.Image image mode=RGB size=300x300 at 0x24A23DB8880>"
            ]
          },
          "execution_count": 54,
          "metadata": {},
          "output_type": "execute_result"
        }
      ],
      "source": [
        "im_add = Image.open('add.png').convert(\"RGB\")\n",
        "image_add = im_add.resize((300, 300))\n",
        "pixels_add = list(image_add.getdata())\n",
        "image_add"
      ]
    },
    {
      "cell_type": "code",
      "execution_count": 55,
      "metadata": {},
      "outputs": [
        {
          "data": {
            "text/html": [
              "<div>\n",
              "<style scoped>\n",
              "    .dataframe tbody tr th:only-of-type {\n",
              "        vertical-align: middle;\n",
              "    }\n",
              "\n",
              "    .dataframe tbody tr th {\n",
              "        vertical-align: top;\n",
              "    }\n",
              "\n",
              "    .dataframe thead th {\n",
              "        text-align: right;\n",
              "    }\n",
              "</style>\n",
              "<table border=\"1\" class=\"dataframe\">\n",
              "  <thead>\n",
              "    <tr style=\"text-align: right;\">\n",
              "      <th></th>\n",
              "      <th>Red</th>\n",
              "      <th>Green</th>\n",
              "      <th>Blue</th>\n",
              "    </tr>\n",
              "  </thead>\n",
              "  <tbody>\n",
              "    <tr>\n",
              "      <th>0</th>\n",
              "      <td>255</td>\n",
              "      <td>255</td>\n",
              "      <td>255</td>\n",
              "    </tr>\n",
              "    <tr>\n",
              "      <th>1</th>\n",
              "      <td>255</td>\n",
              "      <td>255</td>\n",
              "      <td>255</td>\n",
              "    </tr>\n",
              "    <tr>\n",
              "      <th>2</th>\n",
              "      <td>255</td>\n",
              "      <td>255</td>\n",
              "      <td>255</td>\n",
              "    </tr>\n",
              "    <tr>\n",
              "      <th>3</th>\n",
              "      <td>255</td>\n",
              "      <td>255</td>\n",
              "      <td>255</td>\n",
              "    </tr>\n",
              "    <tr>\n",
              "      <th>4</th>\n",
              "      <td>255</td>\n",
              "      <td>255</td>\n",
              "      <td>255</td>\n",
              "    </tr>\n",
              "    <tr>\n",
              "      <th>...</th>\n",
              "      <td>...</td>\n",
              "      <td>...</td>\n",
              "      <td>...</td>\n",
              "    </tr>\n",
              "    <tr>\n",
              "      <th>89995</th>\n",
              "      <td>255</td>\n",
              "      <td>255</td>\n",
              "      <td>255</td>\n",
              "    </tr>\n",
              "    <tr>\n",
              "      <th>89996</th>\n",
              "      <td>255</td>\n",
              "      <td>255</td>\n",
              "      <td>255</td>\n",
              "    </tr>\n",
              "    <tr>\n",
              "      <th>89997</th>\n",
              "      <td>255</td>\n",
              "      <td>255</td>\n",
              "      <td>255</td>\n",
              "    </tr>\n",
              "    <tr>\n",
              "      <th>89998</th>\n",
              "      <td>255</td>\n",
              "      <td>255</td>\n",
              "      <td>255</td>\n",
              "    </tr>\n",
              "    <tr>\n",
              "      <th>89999</th>\n",
              "      <td>255</td>\n",
              "      <td>255</td>\n",
              "      <td>255</td>\n",
              "    </tr>\n",
              "  </tbody>\n",
              "</table>\n",
              "<p>90000 rows × 3 columns</p>\n",
              "</div>"
            ],
            "text/plain": [
              "       Red  Green  Blue\n",
              "0      255    255   255\n",
              "1      255    255   255\n",
              "2      255    255   255\n",
              "3      255    255   255\n",
              "4      255    255   255\n",
              "...    ...    ...   ...\n",
              "89995  255    255   255\n",
              "89996  255    255   255\n",
              "89997  255    255   255\n",
              "89998  255    255   255\n",
              "89999  255    255   255\n",
              "\n",
              "[90000 rows x 3 columns]"
            ]
          },
          "execution_count": 55,
          "metadata": {},
          "output_type": "execute_result"
        }
      ],
      "source": [
        "output_add = pd.DataFrame(pixels_add)\n",
        "\n",
        "df_add = output_add.rename(columns={0: 'Red', 1: \"Green\", 2: \"Blue\"})\n",
        "\n",
        "df_add"
      ]
    },
    {
      "cell_type": "code",
      "execution_count": 56,
      "metadata": {},
      "outputs": [
        {
          "data": {
            "image/png": "[encoded data removed]",
            "text/plain": [
              "<Figure size 432x288 with 1 Axes>"
            ]
          },
          "metadata": {},
          "output_type": "display_data"
        }
      ],
      "source": [
        "# Set title\n",
        "plt.title(\"Histogram Image 1 Combine Image 2 +\")\n",
        "\n",
        "plt.style.use('seaborn-whitegrid')\n",
        "plt.hist(df_add, color=[\"orangered\", \"springgreen\", \"deepskyblue\"],\n",
        "         bins=3, label=[\"Red\", \"Green\", \"Blue\"])\n",
        "\n",
        "plt.legend(bbox_to_anchor=(0.80, 1.25), ncol=3)\n",
        "\n",
        "plt.show()"
      ]
    },
    {
      "cell_type": "markdown",
      "metadata": {},
      "source": [
        "### Operasi -"
      ]
    },
    {
      "cell_type": "code",
      "execution_count": 57,
      "metadata": {},
      "outputs": [
        {
          "data": {
            "text/plain": [
              "True"
            ]
          },
          "execution_count": 57,
          "metadata": {},
          "output_type": "execute_result"
        }
      ],
      "source": [
        "import cv2\n",
        "\n",
        "# Load the two input images\n",
        "image1 = cv2.imread('a1.png')\n",
        "image2 = cv2.imread('a2.png')\n",
        "\n",
        "# Ensure that the images have the same dimensions\n",
        "if image1.shape != image2.shape:\n",
        "    raise ValueError(\"Input images must have the same dimensions.\")\n",
        "\n",
        "# Perform bitwise add operation on the inverted images\n",
        "result = cv2.subtract(image1, image2)\n",
        "\n",
        "# Save the XNOR result\n",
        "cv2.imwrite('substract.png', result)"
      ]
    },
    {
      "cell_type": "code",
      "execution_count": 58,
      "metadata": {},
      "outputs": [
        {
          "data": {
            "image/png": "[encoded data removed]",
            "text/plain": [
              "<PIL.Image.Image image mode=RGB size=300x300 at 0x24A255A34F0>"
            ]
          },
          "execution_count": 58,
          "metadata": {},
          "output_type": "execute_result"
        }
      ],
      "source": [
        "im_subs = Image.open('substract.png').convert(\"RGB\")\n",
        "image_subs = im_subs.resize((300, 300))\n",
        "pixels_subs = list(image_subs.getdata())\n",
        "image_subs"
      ]
    },
    {
      "cell_type": "code",
      "execution_count": 59,
      "metadata": {},
      "outputs": [
        {
          "data": {
            "text/html": [
              "<div>\n",
              "<style scoped>\n",
              "    .dataframe tbody tr th:only-of-type {\n",
              "        vertical-align: middle;\n",
              "    }\n",
              "\n",
              "    .dataframe tbody tr th {\n",
              "        vertical-align: top;\n",
              "    }\n",
              "\n",
              "    .dataframe thead th {\n",
              "        text-align: right;\n",
              "    }\n",
              "</style>\n",
              "<table border=\"1\" class=\"dataframe\">\n",
              "  <thead>\n",
              "    <tr style=\"text-align: right;\">\n",
              "      <th></th>\n",
              "      <th>Red</th>\n",
              "      <th>Green</th>\n",
              "      <th>Blue</th>\n",
              "    </tr>\n",
              "  </thead>\n",
              "  <tbody>\n",
              "    <tr>\n",
              "      <th>0</th>\n",
              "      <td>0</td>\n",
              "      <td>0</td>\n",
              "      <td>0</td>\n",
              "    </tr>\n",
              "    <tr>\n",
              "      <th>1</th>\n",
              "      <td>0</td>\n",
              "      <td>0</td>\n",
              "      <td>0</td>\n",
              "    </tr>\n",
              "    <tr>\n",
              "      <th>2</th>\n",
              "      <td>0</td>\n",
              "      <td>0</td>\n",
              "      <td>0</td>\n",
              "    </tr>\n",
              "    <tr>\n",
              "      <th>3</th>\n",
              "      <td>0</td>\n",
              "      <td>0</td>\n",
              "      <td>0</td>\n",
              "    </tr>\n",
              "    <tr>\n",
              "      <th>4</th>\n",
              "      <td>0</td>\n",
              "      <td>0</td>\n",
              "      <td>0</td>\n",
              "    </tr>\n",
              "    <tr>\n",
              "      <th>...</th>\n",
              "      <td>...</td>\n",
              "      <td>...</td>\n",
              "      <td>...</td>\n",
              "    </tr>\n",
              "    <tr>\n",
              "      <th>89995</th>\n",
              "      <td>0</td>\n",
              "      <td>0</td>\n",
              "      <td>0</td>\n",
              "    </tr>\n",
              "    <tr>\n",
              "      <th>89996</th>\n",
              "      <td>0</td>\n",
              "      <td>0</td>\n",
              "      <td>0</td>\n",
              "    </tr>\n",
              "    <tr>\n",
              "      <th>89997</th>\n",
              "      <td>0</td>\n",
              "      <td>0</td>\n",
              "      <td>0</td>\n",
              "    </tr>\n",
              "    <tr>\n",
              "      <th>89998</th>\n",
              "      <td>0</td>\n",
              "      <td>0</td>\n",
              "      <td>0</td>\n",
              "    </tr>\n",
              "    <tr>\n",
              "      <th>89999</th>\n",
              "      <td>0</td>\n",
              "      <td>0</td>\n",
              "      <td>0</td>\n",
              "    </tr>\n",
              "  </tbody>\n",
              "</table>\n",
              "<p>90000 rows × 3 columns</p>\n",
              "</div>"
            ],
            "text/plain": [
              "       Red  Green  Blue\n",
              "0        0      0     0\n",
              "1        0      0     0\n",
              "2        0      0     0\n",
              "3        0      0     0\n",
              "4        0      0     0\n",
              "...    ...    ...   ...\n",
              "89995    0      0     0\n",
              "89996    0      0     0\n",
              "89997    0      0     0\n",
              "89998    0      0     0\n",
              "89999    0      0     0\n",
              "\n",
              "[90000 rows x 3 columns]"
            ]
          },
          "execution_count": 59,
          "metadata": {},
          "output_type": "execute_result"
        }
      ],
      "source": [
        "output_subs = pd.DataFrame(pixels_subs)\n",
        "\n",
        "df_subs = output_subs.rename(columns={0: 'Red', 1: \"Green\", 2: \"Blue\"})\n",
        "\n",
        "df_subs"
      ]
    },
    {
      "cell_type": "code",
      "execution_count": 60,
      "metadata": {},
      "outputs": [
        {
          "data": {
            "image/png": "[encoded data removed]",
            "text/plain": [
              "<Figure size 432x288 with 1 Axes>"
            ]
          },
          "metadata": {},
          "output_type": "display_data"
        }
      ],
      "source": [
        "# Set title\n",
        "plt.title(\"Histogram Image 1 Combine Image 2 -\")\n",
        "\n",
        "plt.style.use('seaborn-whitegrid')\n",
        "plt.hist(df_subs, color=[\"orangered\", \"springgreen\", \"deepskyblue\"],\n",
        "         bins=3, label=[\"Red\", \"Green\", \"Blue\"])\n",
        "\n",
        "plt.legend(bbox_to_anchor=(0.80, 1.25), ncol=3)\n",
        "\n",
        "plt.show()"
      ]
    },
    {
      "cell_type": "markdown",
      "metadata": {},
      "source": [
        "### Operasi *"
      ]
    },
    {
      "cell_type": "code",
      "execution_count": 61,
      "metadata": {},
      "outputs": [
        {
          "data": {
            "text/plain": [
              "True"
            ]
          },
          "execution_count": 61,
          "metadata": {},
          "output_type": "execute_result"
        }
      ],
      "source": [
        "import cv2\n",
        "\n",
        "# Load the two input images\n",
        "image1 = cv2.imread('a1.png')\n",
        "image2 = cv2.imread('a2.png')\n",
        "\n",
        "# Ensure that the images have the same dimensions\n",
        "if image1.shape != image2.shape:\n",
        "    raise ValueError(\"Input images must have the same dimensions.\")\n",
        "\n",
        "# Perform bitwise add operation on the inverted images\n",
        "result = cv2.multiply(image1, image2)\n",
        "\n",
        "# Save the XNOR result\n",
        "cv2.imwrite('mult.png', result)"
      ]
    },
    {
      "cell_type": "code",
      "execution_count": 62,
      "metadata": {},
      "outputs": [
        {
          "data": {
            "image/png": "[encoded data removed]",
            "text/plain": [
              "<PIL.Image.Image image mode=RGB size=300x300 at 0x24A161325E0>"
            ]
          },
          "execution_count": 62,
          "metadata": {},
          "output_type": "execute_result"
        }
      ],
      "source": [
        "im_mult = Image.open('mult.png').convert(\"RGB\")\n",
        "image_mult = im_mult.resize((300, 300))\n",
        "pixels_mult = list(image_mult.getdata())\n",
        "image_mult"
      ]
    },
    {
      "cell_type": "code",
      "execution_count": 63,
      "metadata": {},
      "outputs": [
        {
          "data": {
            "text/html": [
              "<div>\n",
              "<style scoped>\n",
              "    .dataframe tbody tr th:only-of-type {\n",
              "        vertical-align: middle;\n",
              "    }\n",
              "\n",
              "    .dataframe tbody tr th {\n",
              "        vertical-align: top;\n",
              "    }\n",
              "\n",
              "    .dataframe thead th {\n",
              "        text-align: right;\n",
              "    }\n",
              "</style>\n",
              "<table border=\"1\" class=\"dataframe\">\n",
              "  <thead>\n",
              "    <tr style=\"text-align: right;\">\n",
              "      <th></th>\n",
              "      <th>Red</th>\n",
              "      <th>Green</th>\n",
              "      <th>Blue</th>\n",
              "    </tr>\n",
              "  </thead>\n",
              "  <tbody>\n",
              "    <tr>\n",
              "      <th>0</th>\n",
              "      <td>0</td>\n",
              "      <td>0</td>\n",
              "      <td>0</td>\n",
              "    </tr>\n",
              "    <tr>\n",
              "      <th>1</th>\n",
              "      <td>0</td>\n",
              "      <td>0</td>\n",
              "      <td>0</td>\n",
              "    </tr>\n",
              "    <tr>\n",
              "      <th>2</th>\n",
              "      <td>0</td>\n",
              "      <td>0</td>\n",
              "      <td>0</td>\n",
              "    </tr>\n",
              "    <tr>\n",
              "      <th>3</th>\n",
              "      <td>0</td>\n",
              "      <td>0</td>\n",
              "      <td>0</td>\n",
              "    </tr>\n",
              "    <tr>\n",
              "      <th>4</th>\n",
              "      <td>0</td>\n",
              "      <td>0</td>\n",
              "      <td>0</td>\n",
              "    </tr>\n",
              "    <tr>\n",
              "      <th>...</th>\n",
              "      <td>...</td>\n",
              "      <td>...</td>\n",
              "      <td>...</td>\n",
              "    </tr>\n",
              "    <tr>\n",
              "      <th>89995</th>\n",
              "      <td>0</td>\n",
              "      <td>0</td>\n",
              "      <td>0</td>\n",
              "    </tr>\n",
              "    <tr>\n",
              "      <th>89996</th>\n",
              "      <td>0</td>\n",
              "      <td>0</td>\n",
              "      <td>0</td>\n",
              "    </tr>\n",
              "    <tr>\n",
              "      <th>89997</th>\n",
              "      <td>0</td>\n",
              "      <td>0</td>\n",
              "      <td>0</td>\n",
              "    </tr>\n",
              "    <tr>\n",
              "      <th>89998</th>\n",
              "      <td>0</td>\n",
              "      <td>0</td>\n",
              "      <td>0</td>\n",
              "    </tr>\n",
              "    <tr>\n",
              "      <th>89999</th>\n",
              "      <td>0</td>\n",
              "      <td>0</td>\n",
              "      <td>0</td>\n",
              "    </tr>\n",
              "  </tbody>\n",
              "</table>\n",
              "<p>90000 rows × 3 columns</p>\n",
              "</div>"
            ],
            "text/plain": [
              "       Red  Green  Blue\n",
              "0        0      0     0\n",
              "1        0      0     0\n",
              "2        0      0     0\n",
              "3        0      0     0\n",
              "4        0      0     0\n",
              "...    ...    ...   ...\n",
              "89995    0      0     0\n",
              "89996    0      0     0\n",
              "89997    0      0     0\n",
              "89998    0      0     0\n",
              "89999    0      0     0\n",
              "\n",
              "[90000 rows x 3 columns]"
            ]
          },
          "execution_count": 63,
          "metadata": {},
          "output_type": "execute_result"
        }
      ],
      "source": [
        "output_mult = pd.DataFrame(pixels_mult)\n",
        "\n",
        "df_mult = output_subs.rename(columns={0: 'Red', 1: \"Green\", 2: \"Blue\"})\n",
        "\n",
        "df_mult"
      ]
    },
    {
      "cell_type": "code",
      "execution_count": 64,
      "metadata": {},
      "outputs": [
        {
          "data": {
            "image/png": "[encoded data removed]",
            "text/plain": [
              "<Figure size 432x288 with 1 Axes>"
            ]
          },
          "metadata": {},
          "output_type": "display_data"
        }
      ],
      "source": [
        "# Set title\n",
        "plt.title(\"Histogram Image 1 Combine Image 2 *\")\n",
        "\n",
        "plt.style.use('seaborn-whitegrid')\n",
        "plt.hist(df_mult, color=[\"orangered\", \"springgreen\", \"deepskyblue\"],\n",
        "         bins=3, label=[\"Red\", \"Green\", \"Blue\"])\n",
        "\n",
        "plt.legend(bbox_to_anchor=(0.80, 1.25), ncol=3)\n",
        "\n",
        "plt.show()"
      ]
    },
    {
      "cell_type": "markdown",
      "metadata": {},
      "source": [
        "### Operasi /"
      ]
    },
    {
      "cell_type": "code",
      "execution_count": 65,
      "metadata": {},
      "outputs": [
        {
          "data": {
            "text/plain": [
              "True"
            ]
          },
          "execution_count": 65,
          "metadata": {},
          "output_type": "execute_result"
        }
      ],
      "source": [
        "import cv2\n",
        "\n",
        "# Load the two input images\n",
        "image1 = cv2.imread('a1.png')\n",
        "image2 = cv2.imread('a2.png')\n",
        "\n",
        "# Ensure that the images have the same dimensions\n",
        "if image1.shape != image2.shape:\n",
        "    raise ValueError(\"Input images must have the same dimensions.\")\n",
        "\n",
        "# Perform pixel-wise division operation\n",
        "result = cv2.divide(image1, image2)\n",
        "\n",
        "# Save the division result\n",
        "cv2.imwrite('divide.png', result)"
      ]
    },
    {
      "cell_type": "code",
      "execution_count": 66,
      "metadata": {},
      "outputs": [
        {
          "data": {
            "image/png": "[encoded data removed]",
            "text/plain": [
              "<PIL.Image.Image image mode=RGB size=300x300 at 0x24A16A89D90>"
            ]
          },
          "execution_count": 66,
          "metadata": {},
          "output_type": "execute_result"
        }
      ],
      "source": [
        "im_divide = Image.open('divide.png').convert(\"RGB\")\n",
        "image_divide = im_divide.resize((300, 300))\n",
        "pixels_divide = list(image_divide.getdata())\n",
        "image_divide"
      ]
    },
    {
      "cell_type": "code",
      "execution_count": 67,
      "metadata": {},
      "outputs": [
        {
          "data": {
            "text/html": [
              "<div>\n",
              "<style scoped>\n",
              "    .dataframe tbody tr th:only-of-type {\n",
              "        vertical-align: middle;\n",
              "    }\n",
              "\n",
              "    .dataframe tbody tr th {\n",
              "        vertical-align: top;\n",
              "    }\n",
              "\n",
              "    .dataframe thead th {\n",
              "        text-align: right;\n",
              "    }\n",
              "</style>\n",
              "<table border=\"1\" class=\"dataframe\">\n",
              "  <thead>\n",
              "    <tr style=\"text-align: right;\">\n",
              "      <th></th>\n",
              "      <th>Red</th>\n",
              "      <th>Green</th>\n",
              "      <th>Blue</th>\n",
              "    </tr>\n",
              "  </thead>\n",
              "  <tbody>\n",
              "    <tr>\n",
              "      <th>0</th>\n",
              "      <td>1</td>\n",
              "      <td>1</td>\n",
              "      <td>1</td>\n",
              "    </tr>\n",
              "    <tr>\n",
              "      <th>1</th>\n",
              "      <td>1</td>\n",
              "      <td>1</td>\n",
              "      <td>1</td>\n",
              "    </tr>\n",
              "    <tr>\n",
              "      <th>2</th>\n",
              "      <td>1</td>\n",
              "      <td>1</td>\n",
              "      <td>1</td>\n",
              "    </tr>\n",
              "    <tr>\n",
              "      <th>3</th>\n",
              "      <td>1</td>\n",
              "      <td>1</td>\n",
              "      <td>1</td>\n",
              "    </tr>\n",
              "    <tr>\n",
              "      <th>4</th>\n",
              "      <td>1</td>\n",
              "      <td>1</td>\n",
              "      <td>1</td>\n",
              "    </tr>\n",
              "    <tr>\n",
              "      <th>...</th>\n",
              "      <td>...</td>\n",
              "      <td>...</td>\n",
              "      <td>...</td>\n",
              "    </tr>\n",
              "    <tr>\n",
              "      <th>89995</th>\n",
              "      <td>1</td>\n",
              "      <td>1</td>\n",
              "      <td>1</td>\n",
              "    </tr>\n",
              "    <tr>\n",
              "      <th>89996</th>\n",
              "      <td>1</td>\n",
              "      <td>1</td>\n",
              "      <td>1</td>\n",
              "    </tr>\n",
              "    <tr>\n",
              "      <th>89997</th>\n",
              "      <td>1</td>\n",
              "      <td>1</td>\n",
              "      <td>1</td>\n",
              "    </tr>\n",
              "    <tr>\n",
              "      <th>89998</th>\n",
              "      <td>1</td>\n",
              "      <td>1</td>\n",
              "      <td>1</td>\n",
              "    </tr>\n",
              "    <tr>\n",
              "      <th>89999</th>\n",
              "      <td>1</td>\n",
              "      <td>1</td>\n",
              "      <td>1</td>\n",
              "    </tr>\n",
              "  </tbody>\n",
              "</table>\n",
              "<p>90000 rows × 3 columns</p>\n",
              "</div>"
            ],
            "text/plain": [
              "       Red  Green  Blue\n",
              "0        1      1     1\n",
              "1        1      1     1\n",
              "2        1      1     1\n",
              "3        1      1     1\n",
              "4        1      1     1\n",
              "...    ...    ...   ...\n",
              "89995    1      1     1\n",
              "89996    1      1     1\n",
              "89997    1      1     1\n",
              "89998    1      1     1\n",
              "89999    1      1     1\n",
              "\n",
              "[90000 rows x 3 columns]"
            ]
          },
          "execution_count": 67,
          "metadata": {},
          "output_type": "execute_result"
        }
      ],
      "source": [
        "output_div = pd.DataFrame(pixels_divide)\n",
        "\n",
        "df_div = output_div.rename(columns={0: 'Red', 1: \"Green\", 2: \"Blue\"})\n",
        "\n",
        "df_div"
      ]
    },
    {
      "cell_type": "code",
      "execution_count": 68,
      "metadata": {},
      "outputs": [
        {
          "data": {
            "image/png": "[encoded data removed]",
            "text/plain": [
              "<Figure size 432x288 with 1 Axes>"
            ]
          },
          "metadata": {},
          "output_type": "display_data"
        }
      ],
      "source": [
        "# Set title\n",
        "plt.title(\"Histogram Image 1 Combine Image 2 /\")\n",
        "\n",
        "plt.style.use('seaborn-whitegrid')\n",
        "\n",
        "plt.hist(df_div, color=[\"orangered\", \"springgreen\", \"deepskyblue\"],\n",
        "         bins=3, label=[\"Red\", \"Green\", \"Blue\"])\n",
        "\n",
        "plt.legend(bbox_to_anchor=(0.80, 1.25), ncol=3)\n",
        "\n",
        "plt.show()"
      ]
    }
  ],
  "metadata": {
    "colab": {
      "include_colab_link": true,
      "provenance": []
    },
    "kernelspec": {
      "display_name": "Python 3",
      "name": "python3"
    },
    "language_info": {
      "codemirror_mode": {
        "name": "ipython",
        "version": 3
      },
      "file_extension": ".py",
      "mimetype": "text/x-python",
      "name": "python",
      "nbconvert_exporter": "python",
      "pygments_lexer": "ipython3",
      "version": "3.9.2"
    }
  },
  "nbformat": 4,
  "nbformat_minor": 0
}
